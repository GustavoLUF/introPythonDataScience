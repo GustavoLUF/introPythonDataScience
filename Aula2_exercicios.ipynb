{
 "cells": [
  {
   "cell_type": "code",
   "execution_count": 1,
   "metadata": {},
   "outputs": [
    {
     "data": {
      "text/plain": [
       "[27, 7, 5, 8, 7, 9]"
      ]
     },
     "execution_count": 1,
     "metadata": {},
     "output_type": "execute_result"
    }
   ],
   "source": [
    "lista_numeros = [3, 7, 5, 8, 7, 9]\n",
    "\n",
    "lista_numeros[0] *= lista_numeros[-1]\n",
    "lista_numeros"
   ]
  },
  {
   "cell_type": "code",
   "execution_count": 2,
   "metadata": {},
   "outputs": [
    {
     "data": {
      "text/plain": [
       "8"
      ]
     },
     "execution_count": 2,
     "metadata": {},
     "output_type": "execute_result"
    }
   ],
   "source": [
    "lista_varios_numeros = [11,15,67,34,87,3345,68,654,5489,15,15,158,231,87,6,54,121,\n",
    "                       981,3284981,548,45,56,85,0,1874,1,64,8,1,515,15,15,12,30,330,\n",
    "                       87841,520,1,8,53,1,5,4,78,95610,20,68,76,15,18,15,34,72,15]\n",
    "\n",
    "lista_varios_numeros.count(15)"
   ]
  },
  {
   "cell_type": "code",
   "execution_count": 3,
   "metadata": {},
   "outputs": [
    {
     "name": "stdout",
     "output_type": "stream",
     "text": [
      "0\n",
      "3284981\n"
     ]
    }
   ],
   "source": [
    "lista_varios_numeros.sort()\n",
    "print(lista_varios_numeros[0])\n",
    "print(lista_varios_numeros[-1])"
   ]
  },
  {
   "cell_type": "code",
   "execution_count": 4,
   "metadata": {},
   "outputs": [
    {
     "data": {
      "text/plain": [
       "'Caixa'"
      ]
     },
     "execution_count": 4,
     "metadata": {},
     "output_type": "execute_result"
    }
   ],
   "source": [
    "lista_de_palavras = [1,'cinco', 72, ' Celular', 'Caixa']\n",
    "lista_de_palavras[-1]"
   ]
  },
  {
   "cell_type": "code",
   "execution_count": 5,
   "metadata": {},
   "outputs": [
    {
     "data": {
      "text/plain": [
       "'Eu estou aprendendo Python'"
      ]
     },
     "execution_count": 5,
     "metadata": {},
     "output_type": "execute_result"
    }
   ],
   "source": [
    "lista_de_palavras = ['Python', 'aprendendo', 'estou', 'Eu', ' ']\n",
    "\n",
    "lista_de_palavras.pop()\n",
    "lista_de_palavras.reverse()\n",
    "' '.join(lista_de_palavras)\n",
    "\n",
    "\n",
    "\n"
   ]
  },
  {
   "cell_type": "code",
   "execution_count": 6,
   "metadata": {},
   "outputs": [
    {
     "name": "stdout",
     "output_type": "stream",
     "text": [
      "Parabéns pelo dia internacional da mulher!\n"
     ]
    }
   ],
   "source": [
    "lista_palavras = ['da', ' ', 'mulher', 'internacional', '!', 'dia', 'pelo', 'Parabéns']\n",
    "\n",
    "parabens = lista_palavras[-1]\n",
    "pelo = lista_palavras[6]\n",
    "dia = lista_palavras[5]\n",
    "exclamacao = lista_palavras[4]\n",
    "internacional = lista_palavras[3]\n",
    "mulher = lista_palavras[2]\n",
    "espaco = lista_palavras[1]\n",
    "da = lista_palavras[0]\n",
    "\n",
    "print(parabens+espaco+pelo+espaco+dia+espaco+internacional+espaco+da+espaco+mulher+exclamacao)\n"
   ]
  },
  {
   "cell_type": "code",
   "execution_count": 7,
   "metadata": {},
   "outputs": [
    {
     "data": {
      "text/plain": [
       "'Parabéns pelo dia internacional da mulher!'"
      ]
     },
     "execution_count": 7,
     "metadata": {},
     "output_type": "execute_result"
    }
   ],
   "source": [
    "lista_palavras = ['da', ' ', 'mulher', 'internacional', '!', 'dia', 'pelo', 'Parabéns']\n",
    "index = [7, 6, 5, 3, 0, 2]\n",
    "\n",
    "frase = ' '.join(lista_palavras[i] for i in index if lista_palavras[i] != ' ') + lista_palavras[4]\n",
    "frase"
   ]
  },
  {
   "cell_type": "code",
   "execution_count": 8,
   "metadata": {},
   "outputs": [
    {
     "data": {
      "text/plain": [
       "'O carro tem 4 rodas'"
      ]
     },
     "execution_count": 8,
     "metadata": {},
     "output_type": "execute_result"
    }
   ],
   "source": [
    "lista_de_listas = [1,'O','garrafa', 'e',['rodas','4', 'cinco', 'tem',['sapato', ' ','bancos',17]],'carro']\n",
    "\n",
    "frase = f\"{lista_de_listas[1]} {lista_de_listas[-1]} {lista_de_listas[4][3]} {lista_de_listas[4][1]} {lista_de_listas[4][0]}\"\n",
    "frase"
   ]
  },
  {
   "cell_type": "code",
   "execution_count": 9,
   "metadata": {},
   "outputs": [
    {
     "data": {
      "text/plain": [
       "'O carro tem cinco bancos'"
      ]
     },
     "execution_count": 9,
     "metadata": {},
     "output_type": "execute_result"
    }
   ],
   "source": [
    "frase = f\"{lista_de_listas[1]} {lista_de_listas[-1]} {lista_de_listas[4][3]} {lista_de_listas[4][2]} {lista_de_listas[4][-1][2]}\"\n",
    "frase"
   ]
  },
  {
   "cell_type": "code",
   "execution_count": 10,
   "metadata": {},
   "outputs": [
    {
     "data": {
      "text/plain": [
       "'O carro tem 4 rodas e cinco bancos'"
      ]
     },
     "execution_count": 10,
     "metadata": {},
     "output_type": "execute_result"
    }
   ],
   "source": [
    "frase = f\"{lista_de_listas[1]} {lista_de_listas[-1]} {lista_de_listas[4][3]} {lista_de_listas[4][1]} {lista_de_listas[4][0]} {lista_de_listas[3]} {lista_de_listas[4][2]} {lista_de_listas[4][-1][2]}\"\n",
    "frase"
   ]
  }
 ],
 "metadata": {
  "kernelspec": {
   "display_name": "Python 3",
   "language": "python",
   "name": "python3"
  },
  "language_info": {
   "codemirror_mode": {
    "name": "ipython",
    "version": 3
   },
   "file_extension": ".py",
   "mimetype": "text/x-python",
   "name": "python",
   "nbconvert_exporter": "python",
   "pygments_lexer": "ipython3",
   "version": "3.11.3"
  }
 },
 "nbformat": 4,
 "nbformat_minor": 2
}
