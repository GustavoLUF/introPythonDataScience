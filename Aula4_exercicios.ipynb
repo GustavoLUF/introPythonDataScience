{
 "cells": [
  {
   "cell_type": "code",
   "execution_count": 7,
   "metadata": {},
   "outputs": [
    {
     "name": "stdout",
     "output_type": "stream",
     "text": [
      "O valor 5 é positivo\n"
     ]
    }
   ],
   "source": [
    "variavel = 5\n",
    "\n",
    "if variavel > 0:\n",
    "    print(f\"O valor {variavel} é positivo\")\n",
    "elif variavel < 0:\n",
    "    print(f\"O valor {variavel} é negativo\")\n",
    "else:\n",
    "    print(f\"O valor {variavel} é neutro\")"
   ]
  },
  {
   "cell_type": "code",
   "execution_count": 17,
   "metadata": {},
   "outputs": [
    {
     "name": "stdout",
     "output_type": "stream",
     "text": [
      "Aprovado com nota máxima! Parabéns!\n"
     ]
    }
   ],
   "source": [
    "nota1 = 10\n",
    "nota2 = 10\n",
    "nota3 = 10\n",
    "media = (nota1+nota2+nota3)/3\n",
    "if media > 7 and media < 10:\n",
    "    print(\"Aprovado\")\n",
    "elif media < 7:\n",
    "    print(\"Reprovado\")\n",
    "else:\n",
    "    print(\"Aprovado com nota máxima! Parabéns!\")"
   ]
  },
  {
   "cell_type": "code",
   "execution_count": 20,
   "metadata": {},
   "outputs": [
    {
     "name": "stdout",
     "output_type": "stream",
     "text": [
      "O maior numero é: 10\n"
     ]
    }
   ],
   "source": [
    "numero_1 = 5\n",
    "numero_2 = -2\n",
    "numero_3 = 10\n",
    "\n",
    "if numero_1 > numero_2 and numero_1 > numero_3:\n",
    "    print(f\"O maior numero é: {numero_1}\")\n",
    "elif numero_2 > numero_1 and numero_2 > numero_3:\n",
    "    print(f\"O maior numero é: {numero_2}\")\n",
    "else:\n",
    "    print(f\"O maior numero é: {numero_3}\")"
   ]
  },
  {
   "cell_type": "code",
   "execution_count": 24,
   "metadata": {},
   "outputs": [
    {
     "name": "stdout",
     "output_type": "stream",
     "text": [
      "Ordem  crescente: 5, 10\n"
     ]
    }
   ],
   "source": [
    "numero_1 = 5\n",
    "numero_2 = 10\n",
    "\n",
    "if numero_1 > numero_2:\n",
    "    print(f\"Ordem  crescente: {numero_2}, {numero_1}\")\n",
    "else:\n",
    "    print(f\"Ordem  crescente: {numero_1}, {numero_2}\")"
   ]
  },
  {
   "cell_type": "code",
   "execution_count": 38,
   "metadata": {},
   "outputs": [
    {
     "name": "stdout",
     "output_type": "stream",
     "text": [
      "\n",
      "    Salário Antigo: 2350\n",
      "    Percentual de aumento: 10.0\n",
      "    Valor aumento: 235.0\n",
      "    Novo salário: 2585.0\n",
      "        \n"
     ]
    }
   ],
   "source": [
    "salario = 2350\n",
    "\n",
    "if salario <= 1200:\n",
    "    percentual = 0.2\n",
    "    salario_novo = salario + salario*percentual\n",
    "    diferenca = salario_novo - salario\n",
    "\n",
    "elif salario > 1200 and salario <= 2000:\n",
    "    percentual = 0.15\n",
    "    salario_novo = salario + salario*percentual\n",
    "    diferenca = salario_novo - salario\n",
    "    \n",
    "elif salario > 2000 and salario <= 3000:\n",
    "    percentual = 0.1\n",
    "    salario_novo = salario + salario*percentual\n",
    "    diferenca = salario_novo - salario\n",
    "\n",
    "else:\n",
    "    percentual = 0.05\n",
    "    salario_novo = salario + salario*percentual\n",
    "    diferenca = salario_novo - salario\n",
    "\n",
    "print(f\"\"\"\n",
    "    Salário Antigo: {salario}\n",
    "    Percentual de aumento: {percentual*100}\n",
    "    Valor aumento: {diferenca}\n",
    "    Novo salário: {salario_novo}\n",
    "        \"\"\")"
   ]
  },
  {
   "cell_type": "code",
   "execution_count": 39,
   "metadata": {},
   "outputs": [
    {
     "name": "stdout",
     "output_type": "stream",
     "text": [
      "Sábado\n"
     ]
    }
   ],
   "source": [
    "dia = 7\n",
    "\n",
    "if dia == 1:\n",
    "    print(\"Domingo\")\n",
    "elif dia == 2:\n",
    "    print(\"Segunda-feira\")\n",
    "elif dia == 3:\n",
    "    print(\"Terça-feira\")\n",
    "elif dia == 4:\n",
    "    print(\"Quarta-feira\")\n",
    "elif dia == 5:\n",
    "    print(\"Quinta-feira\")\n",
    "elif dia == 6:\n",
    "    print(\"Sexta-feira\")\n",
    "elif dia == 7:\n",
    "    print(\"Sábado\")\n",
    "else:\n",
    "    print(\"Dia da semana invalido\")"
   ]
  },
  {
   "cell_type": "code",
   "execution_count": 40,
   "metadata": {},
   "outputs": [
    {
     "name": "stdout",
     "output_type": "stream",
     "text": [
      "Ano bisexto\n"
     ]
    }
   ],
   "source": [
    "ano = 2024\n",
    "\n",
    "if ano % 4 == 0:\n",
    "    print(\"Ano bisexto\")\n",
    "else:\n",
    "    print(\"Não é bisexto\")"
   ]
  },
  {
   "cell_type": "code",
   "execution_count": 41,
   "metadata": {},
   "outputs": [
    {
     "name": "stdout",
     "output_type": "stream",
     "text": [
      "É par\n"
     ]
    }
   ],
   "source": [
    "numero_1 = 3\n",
    "numero_2 = 5\n",
    "soma = numero_1 + numero_2\n",
    "\n",
    "if soma % 2 == 0:\n",
    "    print(\"É par\")\n",
    "else:\n",
    "    print(\"É impar\")"
   ]
  },
  {
   "cell_type": "code",
   "execution_count": 43,
   "metadata": {},
   "outputs": [
    {
     "name": "stdout",
     "output_type": "stream",
     "text": [
      "9\n",
      "18\n",
      "27\n",
      "36\n",
      "45\n",
      "54\n",
      "63\n",
      "72\n",
      "81\n",
      "90\n"
     ]
    }
   ],
   "source": [
    "numero = 9\n",
    "\n",
    "for i in range(1,11):\n",
    "    print(numero * i)"
   ]
  },
  {
   "cell_type": "code",
   "execution_count": 45,
   "metadata": {},
   "outputs": [
    {
     "name": "stdout",
     "output_type": "stream",
     "text": [
      "7\n",
      "14\n",
      "21\n",
      "28\n",
      "42\n",
      "49\n",
      "56\n",
      "63\n",
      "77\n",
      "84\n",
      "91\n",
      "98\n"
     ]
    }
   ],
   "source": [
    "for i in range(5, 101):\n",
    "    if i % 7 == 0 and i % 5 != 0:\n",
    "        print(i)"
   ]
  },
  {
   "cell_type": "code",
   "execution_count": 64,
   "metadata": {},
   "outputs": [
    {
     "name": "stdout",
     "output_type": "stream",
     "text": [
      "10\n"
     ]
    }
   ],
   "source": [
    "numero = 4\n",
    "soma = 0\n",
    "for i in range(1, numero+1):\n",
    "    soma += i\n",
    "\n",
    "print(soma)"
   ]
  },
  {
   "cell_type": "code",
   "execution_count": 65,
   "metadata": {},
   "outputs": [
    {
     "name": "stdout",
     "output_type": "stream",
     "text": [
      "\n",
      "        Quantidade numeros par: 24\n",
      "        Quantidade numeros par: 17\n",
      "        \n"
     ]
    }
   ],
   "source": [
    "lista_numeros = [5,484,2,21,4,6,9,451,4,8,6,2,1,4,8,6,2,1,7,51,8,7,51,8,7,5,13,748,4,22,2,68,479,43,1,4,98,6841,64,84,86]\n",
    "count_impar = 0\n",
    "count_par = 0\n",
    "for i in lista_numeros:\n",
    "    if i % 2 == 0:\n",
    "        count_par += 1\n",
    "    else:\n",
    "        count_impar += 1\n",
    "\n",
    "print(f\"\"\"\n",
    "        Quantidade numeros par: {count_par}\n",
    "        Quantidade numeros par: {count_impar}\n",
    "        \"\"\")\n"
   ]
  }
 ],
 "metadata": {
  "kernelspec": {
   "display_name": "Python 3",
   "language": "python",
   "name": "python3"
  },
  "language_info": {
   "codemirror_mode": {
    "name": "ipython",
    "version": 3
   },
   "file_extension": ".py",
   "mimetype": "text/x-python",
   "name": "python",
   "nbconvert_exporter": "python",
   "pygments_lexer": "ipython3",
   "version": "3.11.3"
  }
 },
 "nbformat": 4,
 "nbformat_minor": 2
}
