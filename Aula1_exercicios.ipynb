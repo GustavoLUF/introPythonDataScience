{
 "cells": [
  {
   "cell_type": "code",
   "execution_count": 1,
   "metadata": {},
   "outputs": [
    {
     "data": {
      "text/plain": [
       "'A media é: 20.0'"
      ]
     },
     "execution_count": 1,
     "metadata": {},
     "output_type": "execute_result"
    }
   ],
   "source": [
    "maria = 15\n",
    "marina = 22\n",
    "mariana = 23\n",
    "\n",
    "media = f\"A media é: {(maria + marina + mariana) / 3}\"\n",
    "media"
   ]
  },
  {
   "cell_type": "code",
   "execution_count": 2,
   "metadata": {},
   "outputs": [
    {
     "name": "stdout",
     "output_type": "stream",
     "text": [
      "10.53\n"
     ]
    }
   ],
   "source": [
    "km_antigo = 200152\n",
    "km_novo = 200510\n",
    "km_percorrido = km_novo - km_antigo\n",
    "litros = 34\n",
    "km_por_litro = km_percorrido / litros\n",
    "\n",
    "print(f'{km_por_litro:.2f}')"
   ]
  },
  {
   "cell_type": "code",
   "execution_count": 3,
   "metadata": {},
   "outputs": [
    {
     "name": "stdout",
     "output_type": "stream",
     "text": [
      "10.53\n"
     ]
    }
   ],
   "source": [
    "print(f\"{((km_novo-km_antigo) / litros):.2f}\")"
   ]
  },
  {
   "cell_type": "code",
   "execution_count": 4,
   "metadata": {},
   "outputs": [
    {
     "name": "stdout",
     "output_type": "stream",
     "text": [
      "51.14 km/h\n",
      "14.21 m/s\n"
     ]
    }
   ],
   "source": [
    "print(f\"{((km_novo - km_antigo)/ 7):.2f} km/h\")\n",
    "print(f\"{(((km_novo - km_antigo)/ 7) / 3.6):.2f} m/s\")"
   ]
  }
 ],
 "metadata": {
  "kernelspec": {
   "display_name": "Python 3",
   "language": "python",
   "name": "python3"
  },
  "language_info": {
   "codemirror_mode": {
    "name": "ipython",
    "version": 3
   },
   "file_extension": ".py",
   "mimetype": "text/x-python",
   "name": "python",
   "nbconvert_exporter": "python",
   "pygments_lexer": "ipython3",
   "version": "3.11.3"
  }
 },
 "nbformat": 4,
 "nbformat_minor": 2
}
