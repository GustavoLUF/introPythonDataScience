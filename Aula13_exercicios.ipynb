{
 "cells": [
  {
   "cell_type": "code",
   "execution_count": 2,
   "metadata": {},
   "outputs": [
    {
     "name": "stdout",
     "output_type": "stream",
     "text": [
      "Olá, mundo!\n"
     ]
    }
   ],
   "source": [
    "def greet():\n",
    "    print(\"Olá, mundo!\")\n",
    "\n",
    "greet()"
   ]
  },
  {
   "cell_type": "code",
   "execution_count": 7,
   "metadata": {},
   "outputs": [
    {
     "name": "stdout",
     "output_type": "stream",
     "text": [
      "O resultado da soma é: 15\n"
     ]
    }
   ],
   "source": [
    "def add(num1, num2):\n",
    "    soma = num1 + num2\n",
    "    print(f\"O resultado da soma é: {soma}\")\n",
    "\n",
    "add(5, 10)"
   ]
  },
  {
   "cell_type": "code",
   "execution_count": 8,
   "metadata": {},
   "outputs": [
    {
     "name": "stdout",
     "output_type": "stream",
     "text": [
      "Resultado da subtração: 3\n"
     ]
    }
   ],
   "source": [
    "def subtract(num1, num2):\n",
    "    substracao = num1 - num2\n",
    "    print(f\"Resultado da subtração: {substracao}\")\n",
    "\n",
    "subtract(5,2)"
   ]
  },
  {
   "cell_type": "code",
   "execution_count": 9,
   "metadata": {},
   "outputs": [
    {
     "name": "stdout",
     "output_type": "stream",
     "text": [
      "O resultado é 6\n"
     ]
    }
   ],
   "source": [
    "def multiply(num1, num2):\n",
    "    multiplicacao = num1 * num2\n",
    "    print(f\"O resultado é {multiplicacao}\")\n",
    "\n",
    "multiply(2, 3)"
   ]
  },
  {
   "cell_type": "code",
   "execution_count": 10,
   "metadata": {},
   "outputs": [
    {
     "name": "stdout",
     "output_type": "stream",
     "text": [
      "A potencia é 8\n"
     ]
    }
   ],
   "source": [
    "def power(num, expoente):\n",
    "    potencia = num ** expoente\n",
    "    print(f\"A potencia é {potencia}\")\n",
    "\n",
    "power(2,3)"
   ]
  },
  {
   "cell_type": "code",
   "execution_count": 11,
   "metadata": {},
   "outputs": [
    {
     "name": "stdout",
     "output_type": "stream",
     "text": [
      "Olá, Gustavo!\n"
     ]
    }
   ],
   "source": [
    "def greet_person(nome):\n",
    "    print(f\"Olá, {nome}!\")\n",
    "\n",
    "greet_person(\"Gustavo\")"
   ]
  },
  {
   "cell_type": "code",
   "execution_count": 14,
   "metadata": {},
   "outputs": [
    {
     "name": "stdout",
     "output_type": "stream",
     "text": [
      "Hello World!\n"
     ]
    }
   ],
   "source": [
    "variavel = \"Olá mundo!\"\n",
    "\n",
    "def modifica_variavel(variavel):\n",
    "    variavel = \"Hello World!\"\n",
    "    print(variavel)\n",
    "\n",
    "modifica_variavel(variavel)"
   ]
  },
  {
   "cell_type": "code",
   "execution_count": 15,
   "metadata": {},
   "outputs": [
    {
     "name": "stdout",
     "output_type": "stream",
     "text": [
      "Olá mundo!\n"
     ]
    }
   ],
   "source": [
    "def var_local():\n",
    "    variavel_local = \"Olá Gustavo\"\n",
    "    print(variavel)\n",
    "\n",
    "var_local()"
   ]
  },
  {
   "cell_type": "code",
   "execution_count": 16,
   "metadata": {},
   "outputs": [
    {
     "name": "stdout",
     "output_type": "stream",
     "text": [
      "Divisão = 2.0\n"
     ]
    }
   ],
   "source": [
    "def divide(num1, num2):\n",
    "    divisao = num1 / num2\n",
    "    print(f\"Divisão = {divisao}\")\n",
    "\n",
    "divide(6,3)"
   ]
  },
  {
   "cell_type": "code",
   "execution_count": 19,
   "metadata": {},
   "outputs": [
    {
     "name": "stdout",
     "output_type": "stream",
     "text": [
      "Soma: 9\n",
      "Média: 3.0\n",
      "Produto: 24\n"
     ]
    }
   ],
   "source": [
    "def stats(lista):\n",
    "    print(f\"Soma: {sum(lista)}\")\n",
    "    print(f\"Média: {sum(lista)/len(lista)}\")\n",
    "    resultado = 1\n",
    "    for n in lista:\n",
    "        resultado *= n\n",
    "    print(f\"Produto: {resultado}\")\n",
    "\n",
    "lista = [2,3,4]\n",
    "stats(lista)\n"
   ]
  },
  {
   "cell_type": "code",
   "execution_count": 21,
   "metadata": {},
   "outputs": [
    {
     "name": "stdout",
     "output_type": "stream",
     "text": [
      "O resultado da soma é: 5\n"
     ]
    }
   ],
   "source": [
    "soma = add(2,3)\n",
    "soma"
   ]
  },
  {
   "cell_type": "code",
   "execution_count": 23,
   "metadata": {},
   "outputs": [
    {
     "name": "stdout",
     "output_type": "stream",
     "text": [
      "O resultado da soma é: 10\n"
     ]
    }
   ],
   "source": [
    "def apply(add, valor):\n",
    "    return add(valor, 5)\n",
    "\n",
    "apply(add, 5)"
   ]
  },
  {
   "cell_type": "code",
   "execution_count": 25,
   "metadata": {},
   "outputs": [
    {
     "data": {
      "text/plain": [
       "\"Erro encontrado: invalid literal for int() with base 10: 'teste'\""
      ]
     },
     "execution_count": 25,
     "metadata": {},
     "output_type": "execute_result"
    }
   ],
   "source": [
    "def myValueError(valor):\n",
    "    try:\n",
    "        int(valor)\n",
    "    except ValueError as e:\n",
    "        return f\"Erro encontrado: {e}\"\n",
    "\n",
    "myValueError(\"teste\")"
   ]
  },
  {
   "cell_type": "code",
   "execution_count": 26,
   "metadata": {},
   "outputs": [
    {
     "data": {
      "text/plain": [
       "\"Erro encontrado: unsupported operand type(s) for +: 'int' and 'str'\""
      ]
     },
     "execution_count": 26,
     "metadata": {},
     "output_type": "execute_result"
    }
   ],
   "source": [
    "def myTypeError(valor, valor2):\n",
    "    try:\n",
    "        soma = valor + valor2\n",
    "        print(soma)\n",
    "    except TypeError as e:\n",
    "        return f\"Erro encontrado: {e}\"\n",
    "\n",
    "myTypeError(2, \"a\")"
   ]
  },
  {
   "cell_type": "code",
   "execution_count": 27,
   "metadata": {},
   "outputs": [
    {
     "name": "stdout",
     "output_type": "stream",
     "text": [
      "10\n"
     ]
    }
   ],
   "source": [
    "def soma_args(*args):\n",
    "    soma = sum(args)\n",
    "    print(soma)\n",
    "\n",
    "soma_args(1,2,3,4)"
   ]
  },
  {
   "cell_type": "code",
   "execution_count": 30,
   "metadata": {},
   "outputs": [
    {
     "data": {
      "text/plain": [
       "'Numero positivo'"
      ]
     },
     "execution_count": 30,
     "metadata": {},
     "output_type": "execute_result"
    }
   ],
   "source": [
    "def is_positive(num):\n",
    "    if num > 0:\n",
    "        return 'Numero positivo'\n",
    "    else:\n",
    "        return 'Nulo ou negativo'\n",
    "\n",
    "is_positive(2)"
   ]
  },
  {
   "cell_type": "code",
   "execution_count": 31,
   "metadata": {},
   "outputs": [
    {
     "name": "stdout",
     "output_type": "stream",
     "text": [
      "(1, 'Olá', 2, 'Mundo')\n"
     ]
    }
   ],
   "source": [
    "def print_args(*args):\n",
    "    print(args)\n",
    "\n",
    "print_args(1,\"Olá\",2,\"Mundo\")"
   ]
  },
  {
   "cell_type": "code",
   "execution_count": 32,
   "metadata": {},
   "outputs": [
    {
     "data": {
      "text/plain": [
       "'Numero negativo'"
      ]
     },
     "execution_count": 32,
     "metadata": {},
     "output_type": "execute_result"
    }
   ],
   "source": [
    "def is_negative(num):\n",
    "    if num < 0:\n",
    "        return \"Numero negativo\"\n",
    "\n",
    "    print(f\"O número é {num}\")\n",
    "\n",
    "is_negative(-3)"
   ]
  },
  {
   "cell_type": "code",
   "execution_count": 34,
   "metadata": {},
   "outputs": [
    {
     "name": "stdout",
     "output_type": "stream",
     "text": [
      "Com o desconto de 15% o preço final do produto é 85.0\n"
     ]
    }
   ],
   "source": [
    "def apply_discount(preco):\n",
    "    desconto = preco - (preco * 0.15)\n",
    "    print(f\"Com o desconto de 15% o preço final do produto é {desconto}\")\n",
    "\n",
    "apply_discount(100)"
   ]
  }
 ],
 "metadata": {
  "kernelspec": {
   "display_name": "base",
   "language": "python",
   "name": "python3"
  },
  "language_info": {
   "codemirror_mode": {
    "name": "ipython",
    "version": 3
   },
   "file_extension": ".py",
   "mimetype": "text/x-python",
   "name": "python",
   "nbconvert_exporter": "python",
   "pygments_lexer": "ipython3",
   "version": "3.11.5"
  }
 },
 "nbformat": 4,
 "nbformat_minor": 2
}
