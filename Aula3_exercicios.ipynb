{
 "cells": [
  {
   "cell_type": "code",
   "execution_count": 1,
   "metadata": {},
   "outputs": [
    {
     "data": {
      "text/plain": [
       "{'nome1': 'Lopes', 'nome2': 'Gomes', 'nome3': 'Bruna'}"
      ]
     },
     "execution_count": 1,
     "metadata": {},
     "output_type": "execute_result"
    }
   ],
   "source": [
    "dicionario = {\n",
    "    'nome1' : 'Lopes',\n",
    "    'nome2' : 'Gomes',\n",
    "    'nome3' : 'Bruna'\n",
    "}\n",
    "\n",
    "dicionario"
   ]
  },
  {
   "cell_type": "code",
   "execution_count": 2,
   "metadata": {},
   "outputs": [
    {
     "data": {
      "text/plain": [
       "{0: 10, 1: 20, 2: 30}"
      ]
     },
     "execution_count": 2,
     "metadata": {},
     "output_type": "execute_result"
    }
   ],
   "source": [
    "dicionario = {\n",
    "    0 : 10,\n",
    "    1 : 20\n",
    "}\n",
    "\n",
    "dicionario[2] = 30\n",
    "dicionario"
   ]
  },
  {
   "cell_type": "code",
   "execution_count": 3,
   "metadata": {},
   "outputs": [
    {
     "data": {
      "text/plain": [
       "'carro'"
      ]
     },
     "execution_count": 3,
     "metadata": {},
     "output_type": "execute_result"
    }
   ],
   "source": [
    "meios_de_transporte = { 'meio_1' : 'carro',\n",
    "                        'meio_2' : 'bicicleta',\n",
    "                        'meio_3' : 'avião',\n",
    "                        'meio_4' : 'moto'}\n",
    "\n",
    "meios_de_transporte['meio_1']"
   ]
  },
  {
   "cell_type": "code",
   "execution_count": 4,
   "metadata": {},
   "outputs": [
    {
     "data": {
      "text/plain": [
       "'moto'"
      ]
     },
     "execution_count": 4,
     "metadata": {},
     "output_type": "execute_result"
    }
   ],
   "source": [
    "meios_de_transporte['meio_4']"
   ]
  },
  {
   "cell_type": "code",
   "execution_count": 5,
   "metadata": {},
   "outputs": [
    {
     "data": {
      "text/plain": [
       "'avião'"
      ]
     },
     "execution_count": 5,
     "metadata": {},
     "output_type": "execute_result"
    }
   ],
   "source": [
    "meios_de_transporte['meio_3']"
   ]
  },
  {
   "cell_type": "code",
   "execution_count": 6,
   "metadata": {},
   "outputs": [
    {
     "data": {
      "text/plain": [
       "'Feijão'"
      ]
     },
     "execution_count": 6,
     "metadata": {},
     "output_type": "execute_result"
    }
   ],
   "source": [
    "comidas = {'comidas':['Arroz', 'Feijão', 'Bife']}\n",
    "\n",
    "comidas['comidas'][1]"
   ]
  },
  {
   "cell_type": "code",
   "execution_count": 7,
   "metadata": {},
   "outputs": [
    {
     "data": {
      "text/plain": [
       "'Arroz'"
      ]
     },
     "execution_count": 7,
     "metadata": {},
     "output_type": "execute_result"
    }
   ],
   "source": [
    "comidas['comidas'][0]"
   ]
  },
  {
   "cell_type": "code",
   "execution_count": 8,
   "metadata": {},
   "outputs": [
    {
     "data": {
      "text/plain": [
       "'Bife'"
      ]
     },
     "execution_count": 8,
     "metadata": {},
     "output_type": "execute_result"
    }
   ],
   "source": [
    "comidas['comidas'][2]"
   ]
  },
  {
   "cell_type": "code",
   "execution_count": 9,
   "metadata": {},
   "outputs": [
    {
     "data": {
      "text/plain": [
       "18000"
      ]
     },
     "execution_count": 9,
     "metadata": {},
     "output_type": "execute_result"
    }
   ],
   "source": [
    "pessoa = {  'nome' : 'Gizele',\n",
    "            'idade' : 23,\n",
    "            'cargo' : { 'empresa' : 'Gazeta',\n",
    "                        'especificação' : 'Gerente de Marketing',\n",
    "                        'departamento' : 'Marketing Digital',\n",
    "                        'remuneração' : 18000\n",
    "                        }\n",
    "        }\n",
    "\n",
    "pessoa['cargo']['remuneração']"
   ]
  },
  {
   "cell_type": "code",
   "execution_count": 10,
   "metadata": {},
   "outputs": [
    {
     "data": {
      "text/plain": [
       "'Marketing Digital'"
      ]
     },
     "execution_count": 10,
     "metadata": {},
     "output_type": "execute_result"
    }
   ],
   "source": [
    "pessoa['cargo']['departamento']"
   ]
  },
  {
   "cell_type": "code",
   "execution_count": 11,
   "metadata": {},
   "outputs": [
    {
     "data": {
      "text/plain": [
       "23"
      ]
     },
     "execution_count": 11,
     "metadata": {},
     "output_type": "execute_result"
    }
   ],
   "source": [
    "pessoa['idade']"
   ]
  },
  {
   "cell_type": "code",
   "execution_count": 12,
   "metadata": {},
   "outputs": [
    {
     "data": {
      "text/plain": [
       "'celular'"
      ]
     },
     "execution_count": 12,
     "metadata": {},
     "output_type": "execute_result"
    }
   ],
   "source": [
    "dicionario_maluco = {\n",
    "    'chave_1' :[1,2,{'chave_2':['vigarista','celular']}]\n",
    "}\n",
    "\n",
    "dicionario_maluco['chave_1'][2]['chave_2'][1]"
   ]
  },
  {
   "cell_type": "code",
   "execution_count": 13,
   "metadata": {},
   "outputs": [
    {
     "data": {
      "text/plain": [
       "'vigarista'"
      ]
     },
     "execution_count": 13,
     "metadata": {},
     "output_type": "execute_result"
    }
   ],
   "source": [
    "dicionario_maluco['chave_1'][2]['chave_2'][0]"
   ]
  },
  {
   "cell_type": "code",
   "execution_count": 14,
   "metadata": {},
   "outputs": [
    {
     "data": {
      "text/plain": [
       "'Eu consigo!'"
      ]
     },
     "execution_count": 14,
     "metadata": {},
     "output_type": "execute_result"
    }
   ],
   "source": [
    "meu_dicionario = {'chave1':123,'chave2':[12,'!',33],'chave3':['item0','item1',{'chave4':{'chave5':['Eu','consigo', ' ']}}]}\n",
    "\n",
    "eu = meu_dicionario['chave3'][2]['chave4']['chave5'][0]\n",
    "consigo = meu_dicionario['chave3'][2]['chave4']['chave5'][1]\n",
    "espaco = meu_dicionario['chave3'][2]['chave4']['chave5'][2]\n",
    "exclamacao = meu_dicionario['chave2'][1]\n",
    "\n",
    "frase = eu+espaco+consigo+exclamacao\n",
    "frase"
   ]
  },
  {
   "cell_type": "code",
   "execution_count": 25,
   "metadata": {},
   "outputs": [
    {
     "name": "stdout",
     "output_type": "stream",
     "text": [
      "Foi moleza aprender dicionarios e listas!\n",
      "Foi moleza aprender dicionarios e listas!\n"
     ]
    }
   ],
   "source": [
    "meu_dicionario = {  'chave1':{'outra_chave':['k', 'Foi']},\n",
    "                    'chave2':[12,'!','moleza'],\n",
    "                    'chave3':['e', 'listas', 'aprender',{'chave4':{'chave5':['dicionarios', ' ']}}]}\n",
    "meu_dicionario\n",
    "foi = meu_dicionario['chave1']['outra_chave'][1]\n",
    "moleza = meu_dicionario['chave2'][2]\n",
    "aprender = meu_dicionario['chave3'][2]\n",
    "dicionario = meu_dicionario['chave3'][3]['chave4']['chave5'][0]\n",
    "e = meu_dicionario['chave3'][0]\n",
    "listas = meu_dicionario['chave3'][1]\n",
    "espaco = meu_dicionario['chave3'][3]['chave4']['chave5'][1]\n",
    "exclamacao = meu_dicionario['chave2'][1]\n",
    "\n",
    "frase = foi+espaco+moleza+espaco+aprender+espaco+dicionario+espaco+e+espaco+listas+exclamacao\n",
    "print(frase)\n",
    "print(f\"{foi} {moleza} {aprender} {dicionario} {e} {listas}{exclamacao}\")"
   ]
  }
 ],
 "metadata": {
  "kernelspec": {
   "display_name": "Python 3",
   "language": "python",
   "name": "python3"
  },
  "language_info": {
   "codemirror_mode": {
    "name": "ipython",
    "version": 3
   },
   "file_extension": ".py",
   "mimetype": "text/x-python",
   "name": "python",
   "nbconvert_exporter": "python",
   "pygments_lexer": "ipython3",
   "version": "3.11.3"
  }
 },
 "nbformat": 4,
 "nbformat_minor": 2
}
