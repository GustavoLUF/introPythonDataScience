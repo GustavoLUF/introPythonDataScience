{
 "cells": [
  {
   "cell_type": "code",
   "execution_count": 1,
   "metadata": {},
   "outputs": [
    {
     "data": {
      "text/plain": [
       "'Livro: O senhor do aneis por J.R.R. Tolkien'"
      ]
     },
     "execution_count": 1,
     "metadata": {},
     "output_type": "execute_result"
    }
   ],
   "source": [
    "class Livro:\n",
    "    def __init__(self, titulo, autor):\n",
    "        self.titulo = titulo\n",
    "        self.autor = autor\n",
    "    \n",
    "    def descrever(self):\n",
    "        return f\"Livro: {self.titulo} por {self.autor}\"\n",
    "    \n",
    "livro = Livro(\"O senhor do aneis\" ,\"J.R.R. Tolkien\")\n",
    "\n",
    "livro.descrever()"
   ]
  },
  {
   "cell_type": "code",
   "execution_count": 18,
   "metadata": {},
   "outputs": [
    {
     "name": "stdout",
     "output_type": "stream",
     "text": [
      "Au Au\n",
      "Miau\n"
     ]
    }
   ],
   "source": [
    "class Animal:\n",
    "    def emitir_som(self):\n",
    "        print(\"Este animal faz um som\")\n",
    "\n",
    "class Cachorro(Animal):\n",
    "    def emitir_som(self):\n",
    "        return \"Au Au\"\n",
    "    \n",
    "class Gato(Animal):\n",
    "    def emitir_som(self):\n",
    "        return \"Miau\"\n",
    "\n",
    "print(Cachorro().emitir_som())\n",
    "print(Gato().emitir_som())\n"
   ]
  },
  {
   "cell_type": "code",
   "execution_count": 19,
   "metadata": {},
   "outputs": [
    {
     "data": {
      "text/plain": [
       "'Livro O senhor dos aneis por J.R.R. Tolkien'"
      ]
     },
     "execution_count": 19,
     "metadata": {},
     "output_type": "execute_result"
    }
   ],
   "source": [
    "class Livro:\n",
    "    def __init__(self, titulo, autor):\n",
    "        self.__titulo = titulo\n",
    "        self.__autor = autor\n",
    "    \n",
    "    def get_titulo(self):\n",
    "        return self.__titulo\n",
    "\n",
    "    def get_autor(self):\n",
    "        return self.__titulo\n",
    "    \n",
    "    def __str__(self):\n",
    "        return f\"Livro {self.__titulo} por {self.__autor}\"\n",
    "    \n",
    "livro = Livro(\"O senhor dos aneis\", \"J.R.R. Tolkien\")\n",
    "livro.__str__()"
   ]
  },
  {
   "cell_type": "code",
   "execution_count": 21,
   "metadata": {},
   "outputs": [
    {
     "name": "stdout",
     "output_type": "stream",
     "text": [
      "Livro Python 1 por João\n",
      "Livro Python 2 por Douglas\n",
      "Livro Python 3 por Arthur\n"
     ]
    }
   ],
   "source": [
    "class Estante():\n",
    "    def __init__(self):\n",
    "        self.__livros = []\n",
    "    \n",
    "    def adicionar_livro(self, livro):\n",
    "        self.__livros.append(livro)\n",
    "    \n",
    "    def listar_livros(self):\n",
    "        return self.__livros\n",
    "\n",
    "livro1 = Livro(\"Python 1\", \"João\")\n",
    "livro2 = Livro(\"Python 2\", \"Douglas\")\n",
    "livro3 = Livro(\"Python 3\", \"Arthur\")\n",
    "\n",
    "minha_estante = Estante()\n",
    "\n",
    "minha_estante.adicionar_livro(livro1)\n",
    "minha_estante.adicionar_livro(livro2)\n",
    "minha_estante.adicionar_livro(livro3)\n",
    "\n",
    "livros_na_estante = minha_estante.listar_livros()\n",
    "for livro in livros_na_estante:\n",
    "    print(livro)"
   ]
  }
 ],
 "metadata": {
  "kernelspec": {
   "display_name": "base",
   "language": "python",
   "name": "python3"
  },
  "language_info": {
   "codemirror_mode": {
    "name": "ipython",
    "version": 3
   },
   "file_extension": ".py",
   "mimetype": "text/x-python",
   "name": "python",
   "nbconvert_exporter": "python",
   "pygments_lexer": "ipython3",
   "version": "3.11.5"
  }
 },
 "nbformat": 4,
 "nbformat_minor": 2
}
