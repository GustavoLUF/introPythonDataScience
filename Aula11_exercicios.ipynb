{
 "cells": [
  {
   "cell_type": "code",
   "execution_count": 1,
   "metadata": {},
   "outputs": [
    {
     "name": "stderr",
     "output_type": "stream",
     "text": [
      "C:\\Users\\gstvluf\\AppData\\Roaming\\Python\\Python311\\site-packages\\pandas\\core\\arrays\\masked.py:60: UserWarning: Pandas requires version '1.3.6' or newer of 'bottleneck' (version '1.3.5' currently installed).\n",
      "  from pandas.core import (\n"
     ]
    }
   ],
   "source": [
    "import pandas as pd\n",
    "\n",
    "df = pd.read_csv(\"dados/preco_carros.csv\")"
   ]
  },
  {
   "cell_type": "code",
   "execution_count": 2,
   "metadata": {},
   "outputs": [
    {
     "data": {
      "text/html": [
       "<div>\n",
       "<style scoped>\n",
       "    .dataframe tbody tr th:only-of-type {\n",
       "        vertical-align: middle;\n",
       "    }\n",
       "\n",
       "    .dataframe tbody tr th {\n",
       "        vertical-align: top;\n",
       "    }\n",
       "\n",
       "    .dataframe thead th {\n",
       "        text-align: right;\n",
       "    }\n",
       "</style>\n",
       "<table border=\"1\" class=\"dataframe\">\n",
       "  <thead>\n",
       "    <tr style=\"text-align: right;\">\n",
       "      <th></th>\n",
       "      <th>maker</th>\n",
       "      <th>model</th>\n",
       "      <th>mileage</th>\n",
       "      <th>manufacture_year</th>\n",
       "      <th>engine_displacement</th>\n",
       "      <th>engine_power</th>\n",
       "      <th>body_type</th>\n",
       "      <th>color_slug</th>\n",
       "      <th>stk_year</th>\n",
       "      <th>transmission</th>\n",
       "      <th>door_count</th>\n",
       "      <th>seat_count</th>\n",
       "      <th>fuel_type</th>\n",
       "    </tr>\n",
       "  </thead>\n",
       "  <tbody>\n",
       "    <tr>\n",
       "      <th>0</th>\n",
       "      <td>nissan</td>\n",
       "      <td>qashqai</td>\n",
       "      <td>111499.0</td>\n",
       "      <td>2012.0</td>\n",
       "      <td>NaN</td>\n",
       "      <td>NaN</td>\n",
       "      <td>NaN</td>\n",
       "      <td>NaN</td>\n",
       "      <td>NaN</td>\n",
       "      <td>man</td>\n",
       "      <td>NaN</td>\n",
       "      <td>NaN</td>\n",
       "      <td>diesel</td>\n",
       "    </tr>\n",
       "    <tr>\n",
       "      <th>1</th>\n",
       "      <td>jeep</td>\n",
       "      <td>grand-cherokee</td>\n",
       "      <td>8000.0</td>\n",
       "      <td>2016.0</td>\n",
       "      <td>2987.0</td>\n",
       "      <td>184.0</td>\n",
       "      <td>offroad</td>\n",
       "      <td>white</td>\n",
       "      <td>NaN</td>\n",
       "      <td>NaN</td>\n",
       "      <td>4.0</td>\n",
       "      <td>0.0</td>\n",
       "      <td>diesel</td>\n",
       "    </tr>\n",
       "    <tr>\n",
       "      <th>2</th>\n",
       "      <td>NaN</td>\n",
       "      <td>NaN</td>\n",
       "      <td>57650.0</td>\n",
       "      <td>2010.0</td>\n",
       "      <td>1149.0</td>\n",
       "      <td>56.0</td>\n",
       "      <td>NaN</td>\n",
       "      <td>NaN</td>\n",
       "      <td>NaN</td>\n",
       "      <td>auto</td>\n",
       "      <td>2.0</td>\n",
       "      <td>4.0</td>\n",
       "      <td>gasoline</td>\n",
       "    </tr>\n",
       "    <tr>\n",
       "      <th>3</th>\n",
       "      <td>opel</td>\n",
       "      <td>corsa</td>\n",
       "      <td>162915.0</td>\n",
       "      <td>2006.0</td>\n",
       "      <td>NaN</td>\n",
       "      <td>44.0</td>\n",
       "      <td>other</td>\n",
       "      <td>NaN</td>\n",
       "      <td>NaN</td>\n",
       "      <td>man</td>\n",
       "      <td>NaN</td>\n",
       "      <td>NaN</td>\n",
       "      <td>gasoline</td>\n",
       "    </tr>\n",
       "    <tr>\n",
       "      <th>4</th>\n",
       "      <td>NaN</td>\n",
       "      <td>NaN</td>\n",
       "      <td>94118.0</td>\n",
       "      <td>2012.0</td>\n",
       "      <td>1598.0</td>\n",
       "      <td>96.0</td>\n",
       "      <td>NaN</td>\n",
       "      <td>NaN</td>\n",
       "      <td>NaN</td>\n",
       "      <td>NaN</td>\n",
       "      <td>NaN</td>\n",
       "      <td>5.0</td>\n",
       "      <td>diesel</td>\n",
       "    </tr>\n",
       "  </tbody>\n",
       "</table>\n",
       "</div>"
      ],
      "text/plain": [
       "    maker           model   mileage  manufacture_year  engine_displacement  \\\n",
       "0  nissan         qashqai  111499.0            2012.0                  NaN   \n",
       "1    jeep  grand-cherokee    8000.0            2016.0               2987.0   \n",
       "2     NaN             NaN   57650.0            2010.0               1149.0   \n",
       "3    opel           corsa  162915.0            2006.0                  NaN   \n",
       "4     NaN             NaN   94118.0            2012.0               1598.0   \n",
       "\n",
       "   engine_power body_type color_slug  stk_year transmission  door_count  \\\n",
       "0           NaN       NaN        NaN       NaN          man         NaN   \n",
       "1         184.0   offroad      white       NaN          NaN         4.0   \n",
       "2          56.0       NaN        NaN       NaN         auto         2.0   \n",
       "3          44.0     other        NaN       NaN          man         NaN   \n",
       "4          96.0       NaN        NaN       NaN          NaN         NaN   \n",
       "\n",
       "   seat_count fuel_type  \n",
       "0         NaN    diesel  \n",
       "1         0.0    diesel  \n",
       "2         4.0  gasoline  \n",
       "3         NaN  gasoline  \n",
       "4         5.0    diesel  "
      ]
     },
     "execution_count": 2,
     "metadata": {},
     "output_type": "execute_result"
    }
   ],
   "source": [
    "df.head()"
   ]
  },
  {
   "cell_type": "code",
   "execution_count": 3,
   "metadata": {},
   "outputs": [
    {
     "data": {
      "text/html": [
       "<div>\n",
       "<style scoped>\n",
       "    .dataframe tbody tr th:only-of-type {\n",
       "        vertical-align: middle;\n",
       "    }\n",
       "\n",
       "    .dataframe tbody tr th {\n",
       "        vertical-align: top;\n",
       "    }\n",
       "\n",
       "    .dataframe thead th {\n",
       "        text-align: right;\n",
       "    }\n",
       "</style>\n",
       "<table border=\"1\" class=\"dataframe\">\n",
       "  <thead>\n",
       "    <tr style=\"text-align: right;\">\n",
       "      <th></th>\n",
       "      <th>count</th>\n",
       "      <th>unique</th>\n",
       "      <th>top</th>\n",
       "      <th>freq</th>\n",
       "    </tr>\n",
       "  </thead>\n",
       "  <tbody>\n",
       "    <tr>\n",
       "      <th>maker</th>\n",
       "      <td>534807</td>\n",
       "      <td>46</td>\n",
       "      <td>skoda</td>\n",
       "      <td>65769</td>\n",
       "    </tr>\n",
       "    <tr>\n",
       "      <th>model</th>\n",
       "      <td>410760</td>\n",
       "      <td>931</td>\n",
       "      <td>octavia</td>\n",
       "      <td>27644</td>\n",
       "    </tr>\n",
       "    <tr>\n",
       "      <th>body_type</th>\n",
       "      <td>241684</td>\n",
       "      <td>9</td>\n",
       "      <td>compact</td>\n",
       "      <td>101685</td>\n",
       "    </tr>\n",
       "    <tr>\n",
       "      <th>color_slug</th>\n",
       "      <td>86710</td>\n",
       "      <td>14</td>\n",
       "      <td>black</td>\n",
       "      <td>17780</td>\n",
       "    </tr>\n",
       "    <tr>\n",
       "      <th>transmission</th>\n",
       "      <td>535251</td>\n",
       "      <td>2</td>\n",
       "      <td>man</td>\n",
       "      <td>381078</td>\n",
       "    </tr>\n",
       "    <tr>\n",
       "      <th>fuel_type</th>\n",
       "      <td>712681</td>\n",
       "      <td>3</td>\n",
       "      <td>gasoline</td>\n",
       "      <td>379090</td>\n",
       "    </tr>\n",
       "  </tbody>\n",
       "</table>\n",
       "</div>"
      ],
      "text/plain": [
       "               count unique       top    freq\n",
       "maker         534807     46     skoda   65769\n",
       "model         410760    931   octavia   27644\n",
       "body_type     241684      9   compact  101685\n",
       "color_slug     86710     14     black   17780\n",
       "transmission  535251      2       man  381078\n",
       "fuel_type     712681      3  gasoline  379090"
      ]
     },
     "execution_count": 3,
     "metadata": {},
     "output_type": "execute_result"
    }
   ],
   "source": [
    "df.describe(include='O').T"
   ]
  },
  {
   "cell_type": "code",
   "execution_count": 4,
   "metadata": {},
   "outputs": [
    {
     "data": {
      "text/plain": [
       "maker                  177874\n",
       "model                  301921\n",
       "mileage                 69407\n",
       "manufacture_year        67777\n",
       "engine_displacement    164848\n",
       "engine_power           128253\n",
       "body_type              470997\n",
       "color_slug             625971\n",
       "stk_year               665767\n",
       "transmission           177430\n",
       "door_count             246858\n",
       "seat_count             271210\n",
       "fuel_type                   0\n",
       "dtype: int64"
      ]
     },
     "execution_count": 4,
     "metadata": {},
     "output_type": "execute_result"
    }
   ],
   "source": [
    "df.isnull().sum()"
   ]
  },
  {
   "cell_type": "code",
   "execution_count": 5,
   "metadata": {},
   "outputs": [
    {
     "data": {
      "text/plain": [
       "maker                  24.96\n",
       "model                  42.36\n",
       "mileage                 9.74\n",
       "manufacture_year        9.51\n",
       "engine_displacement    23.13\n",
       "engine_power           18.00\n",
       "body_type              66.09\n",
       "color_slug             87.83\n",
       "stk_year               93.42\n",
       "transmission           24.90\n",
       "door_count             34.64\n",
       "seat_count             38.05\n",
       "fuel_type               0.00\n",
       "dtype: float64"
      ]
     },
     "execution_count": 5,
     "metadata": {},
     "output_type": "execute_result"
    }
   ],
   "source": [
    "round(df.isnull().sum() / len(df) * 100, 2)"
   ]
  },
  {
   "cell_type": "code",
   "execution_count": 6,
   "metadata": {},
   "outputs": [],
   "source": [
    "df = df.drop(['color_slug', 'stk_year', 'body_type'], axis = 1)"
   ]
  },
  {
   "cell_type": "code",
   "execution_count": 7,
   "metadata": {},
   "outputs": [
    {
     "data": {
      "text/plain": [
       "Index(['maker', 'model', 'mileage', 'manufacture_year', 'engine_displacement',\n",
       "       'engine_power', 'transmission', 'door_count', 'seat_count',\n",
       "       'fuel_type'],\n",
       "      dtype='object')"
      ]
     },
     "execution_count": 7,
     "metadata": {},
     "output_type": "execute_result"
    }
   ],
   "source": [
    "df.columns"
   ]
  },
  {
   "cell_type": "code",
   "execution_count": 8,
   "metadata": {},
   "outputs": [
    {
     "name": "stdout",
     "output_type": "stream",
     "text": [
      "<class 'pandas.core.frame.DataFrame'>\n",
      "RangeIndex: 712681 entries, 0 to 712680\n",
      "Data columns (total 10 columns):\n",
      " #   Column               Non-Null Count   Dtype  \n",
      "---  ------               --------------   -----  \n",
      " 0   maker                534807 non-null  object \n",
      " 1   model                410760 non-null  object \n",
      " 2   mileage              643274 non-null  float64\n",
      " 3   manufacture_year     644904 non-null  float64\n",
      " 4   engine_displacement  547833 non-null  float64\n",
      " 5   engine_power         584428 non-null  float64\n",
      " 6   transmission         535251 non-null  object \n",
      " 7   door_count           465823 non-null  float64\n",
      " 8   seat_count           441471 non-null  float64\n",
      " 9   fuel_type            712681 non-null  object \n",
      "dtypes: float64(6), object(4)\n",
      "memory usage: 54.4+ MB\n"
     ]
    }
   ],
   "source": [
    "df.info()"
   ]
  },
  {
   "cell_type": "code",
   "execution_count": 9,
   "metadata": {},
   "outputs": [],
   "source": [
    "df.loc[df['maker'].isnull(), 'maker'] = df['maker'].mode()[0]\n",
    "df.loc[df['model'].isnull(), 'model'] = df['model'].mode()[0]\n",
    "df.loc[df['transmission'].isnull(), 'transmission'] = df['transmission'].mode()[0]"
   ]
  },
  {
   "cell_type": "code",
   "execution_count": 10,
   "metadata": {},
   "outputs": [],
   "source": [
    "df.loc[df['mileage'].isnull(), 'mileage'] = df['mileage'].mean()\n",
    "df.loc[df['manufacture_year'].isnull(), 'manufacture_year'] = df['manufacture_year'].mean()\n",
    "df.loc[df['engine_displacement'].isnull(), 'engine_displacement'] = df['engine_displacement'].mean()\n",
    "df.loc[df['engine_power'].isnull(), 'engine_power'] = df['engine_power'].mean()\n",
    "df.loc[df['door_count'].isnull(), 'door_count'] = df['door_count'].mean()\n",
    "df.loc[df['seat_count'].isnull(), 'seat_count'] = df['seat_count'].mean()\n"
   ]
  },
  {
   "cell_type": "code",
   "execution_count": 11,
   "metadata": {},
   "outputs": [
    {
     "name": "stdout",
     "output_type": "stream",
     "text": [
      "<class 'pandas.core.frame.DataFrame'>\n",
      "RangeIndex: 712681 entries, 0 to 712680\n",
      "Data columns (total 10 columns):\n",
      " #   Column               Non-Null Count   Dtype  \n",
      "---  ------               --------------   -----  \n",
      " 0   maker                712681 non-null  object \n",
      " 1   model                712681 non-null  object \n",
      " 2   mileage              712681 non-null  float64\n",
      " 3   manufacture_year     712681 non-null  float64\n",
      " 4   engine_displacement  712681 non-null  float64\n",
      " 5   engine_power         712681 non-null  float64\n",
      " 6   transmission         712681 non-null  object \n",
      " 7   door_count           712681 non-null  float64\n",
      " 8   seat_count           712681 non-null  float64\n",
      " 9   fuel_type            712681 non-null  object \n",
      "dtypes: float64(6), object(4)\n",
      "memory usage: 54.4+ MB\n"
     ]
    }
   ],
   "source": [
    "df.info()"
   ]
  },
  {
   "cell_type": "code",
   "execution_count": 12,
   "metadata": {},
   "outputs": [
    {
     "data": {
      "text/plain": [
       "array(['nissan', 'jeep', 'skoda', 'opel', 'suzuki', 'peugeot', 'hyundai',\n",
       "       'mini', 'seat', 'citroen', 'subaru', 'ford', 'volkswagen',\n",
       "       'mitsubishi', 'mercedes-benz', 'audi', 'fiat', 'alfa-romeo', 'bmw',\n",
       "       'rolls-royce', 'toyota', 'land-rover', 'porsche', 'mazda', 'honda',\n",
       "       'volvo', 'chevrolet', 'renault', 'lexus', 'kia', 'rover',\n",
       "       'chrysler', 'smart', 'maserati', 'dodge', 'lancia', 'jaguar',\n",
       "       'bentley', 'isuzu', 'dacia', 'lamborghini', 'hummer', 'tesla',\n",
       "       'lotus', 'infinity', 'aston-martin'], dtype=object)"
      ]
     },
     "execution_count": 12,
     "metadata": {},
     "output_type": "execute_result"
    }
   ],
   "source": [
    "df.maker.unique()"
   ]
  },
  {
   "cell_type": "code",
   "execution_count": 13,
   "metadata": {},
   "outputs": [],
   "source": [
    "from sklearn.preprocessing import LabelEncoder"
   ]
  },
  {
   "cell_type": "code",
   "execution_count": 14,
   "metadata": {},
   "outputs": [
    {
     "data": {
      "text/plain": [
       "array(['100', '100-nx', '1007', '105', '106', '107', '108', '114i', '115',\n",
       "       '116', '116d', '116i', '118d', '118i', '120', '120d', '120i',\n",
       "       '121', '123', '124', '125', '125d', '126', '127', '128', '130',\n",
       "       '130i', '131', '135i', '140', '145', '146', '147', '155', '156',\n",
       "       '159', '164', '166', '1800', '190', '2', '200', '200-sx', '2008',\n",
       "       '205', '206', '207', '208', '216d', '216i', '218i', '220d', '220i',\n",
       "       '225i', '240', '242', '25', '280-zx', '3', '300', '300-zx',\n",
       "       '3000-gt', '3008', '300c', '300m', '301', '306', '307', '308',\n",
       "       '309', '316d', '316i', '318d', '318i', '3200', '320d', '320i',\n",
       "       '323', '323i', '325d', '325i', '328i', '330d', '330i', '330xd',\n",
       "       '335d', '335i', '350-z', '360', '370-z', '400', '4007', '4008',\n",
       "       '405', '406', '407', '420d', '420i', '428i', '430d', '430xd',\n",
       "       '435d', '435i', '440', '45', '460', '480', '4c', '4runner', '5',\n",
       "       '500', '5008', '500l', '500x', '508', '520d', '520i', '520xd',\n",
       "       '523i', '525d', '525i', '525xd', '525xi', '528i', '530d', '530i',\n",
       "       '530xd', '535d', '535i', '540i', '545i', '550i', '6', '600', '605',\n",
       "       '607', '608', '626', '630ci', '630i', '635d', '640d', '645ci',\n",
       "       '645i', '650ci', '650i', '728i', '728il', '730d', '730i', '735i',\n",
       "       '740', '740d', '740i', '745d', '745i', '75', '750i', '750il',\n",
       "       '760i', '80', '800', '806', '807', '850', '850csi', '860', '90',\n",
       "       '911', '924', '928', '940', '944', '960', '986', '987-boxster',\n",
       "       'a1', 'a140-cdi', 'a160-cdi', 'a170-cdi', 'a180-cdi', 'a2', 'a3',\n",
       "       'a4', 'a4-allroad', 'a5', 'a6', 'a6-allroad', 'a7', 'a8', 'accent',\n",
       "       'accord', 'adam', 'agila', 'alero', 'alhambra', 'almera',\n",
       "       'almera-tino', 'alpina', 'altea', 'altima', 'alto', 'amarok',\n",
       "       'ampera', 'antara', 'armada', 'arnage', 'arosa', 'ascona', 'astra',\n",
       "       'astro', 'astro-van', 'asx', 'auris', 'avalanche', 'avantime',\n",
       "       'avenger', 'avensis', 'avensis-verso', 'aventador', 'aveo', 'ax',\n",
       "       'aygo', 'azure-convertible', 'b-max', 'b170-cdi', 'b180-cdi',\n",
       "       'b200-cdi', 'b200i', 'baja', 'baleno', 'barchetta', 'beetle',\n",
       "       'berlingo', 'blazer', 'bluebird', 'bora', 'brava', 'bravo',\n",
       "       'brera', 'brooklands', 'brz', 'bt', 'bx', 'c-crosser', 'c-elysee',\n",
       "       'c-max', 'c1', 'c180-cdi', 'c180e', 'c2', 'c200', 'c200-cdi',\n",
       "       'c220-cdi', 'c220-d', 'c230', 'c250', 'c250-cdi', 'c270-cdi', 'c3',\n",
       "       'c3-picasso', 'c30', 'c320-cdi', 'c4', 'c4-aircross', 'c4-cactus',\n",
       "       'c4-picasso', 'c5', 'c6', 'c70', 'c8', 'caddy', 'caliber',\n",
       "       'calibra', 'camaro', 'camry', 'capri', 'caprice', 'captiva',\n",
       "       'captur', 'caravan', 'caravelle', 'carens', 'carina', 'carnival',\n",
       "       'carrera-gt', 'carry', 'cascada', 'cavalier', 'cayenne', 'cayman',\n",
       "       'cc', 'ceed', 'celerio', 'celica', 'cerato', 'charger', 'cherokee',\n",
       "       'cherry', 'cinquecento', 'citigo', 'city', 'civic', 'cl500',\n",
       "       'cl55-amg', 'cl600', 'cla220-cdi', 'clarus', 'clc220-cdi', 'clio',\n",
       "       'clk200', 'clk200-cgi', 'clk230', 'clk240', 'clk270-cdi', 'clk320',\n",
       "       'clk430', 'cls320-cdi', 'cls350', 'cls350-cdi', 'cls350-cgi',\n",
       "       'cls500', 'clubman', 'colorado', 'colt', 'combo', 'commander',\n",
       "       'compass', 'concerto', 'concorde', 'connect',\n",
       "       'continental-flying-spur', 'continental-gt', 'continental-gtc',\n",
       "       'continental-r', 'continental-t', 'cooper', 'cooper-s', 'cordoba',\n",
       "       'corolla', 'corolla-verso', 'corrado', 'corsa', 'corvette',\n",
       "       'cougar', 'countryman', 'coupe', 'cr-v', 'cr-z', 'croma',\n",
       "       'crossfire', 'crown-victoria', 'cruze', 'ct-200h', 'cube', 'cx',\n",
       "       'cx-3', 'cx-5', 'cx-7', 'cx-9', 'd-max', 'daimler', 'dakota',\n",
       "       'defender', 'delta', 'demio', 'discovery', 'discovery-sport',\n",
       "       'doblo', 'dokker', 'double-cab', 'ds3', 'ds4', 'ds5', 'durango',\n",
       "       'duster', 'e200', 'e200-cdi', 'e220-cdi', 'e220-d', 'e230', 'e240',\n",
       "       'e250', 'e250-cdi', 'e270-cdi', 'e280', 'e280-cdi', 'e320-cdi',\n",
       "       'e350-cdi', 'e500', 'e55-amg', 'echo', 'eclipse', 'edge',\n",
       "       'el-camino', 'elantra', 'element', 'elise', 'eos', 'epica', 'es',\n",
       "       'escape', 'escort', 'espace', 'esprit', 'evalia', 'evanda',\n",
       "       'evasion', 'excursion', 'exeo', 'expedition', 'expert',\n",
       "       'expert-tepee', 'explorer', 'f-150', 'f-type', 'fabia', 'favorit',\n",
       "       'felicia', 'fiesta', 'fj-cruiser', 'fluence', 'focus', 'forester',\n",
       "       'forfour', 'forman', 'fortwo', 'fox', 'fr-v', 'freelander',\n",
       "       'freemont', 'freestar', 'frontera', 'frontier', 'fusion', 'fx30',\n",
       "       'fx35', 'g300', 'g350-td', 'g37', 'g400-cdi', 'g500', 'galant',\n",
       "       'galaxy', 'gallardo', 'galloper', 'ge280', 'genesis', 'getz',\n",
       "       'ghibli', 'ghost', 'giulietta', 'gl320-cdi', 'gl350-cdi',\n",
       "       'gl420-cdi', 'gl500', 'gl550', 'gla200-cdi', 'gle350-cdi',\n",
       "       'glk250-cdi', 'glk320-cdi', 'glk350-cdi', 'golf', 'golf-plus',\n",
       "       'golf-sportsvan', 'granada', 'grancabrio', 'grand-c-max',\n",
       "       'grand-caravan', 'grand-cherokee', 'grand-scenic', 'grand-vitara',\n",
       "       'grand-voyager', 'grande-punto', 'grandeur', 'grandis',\n",
       "       'granturismo', 'gs', 'gs-300', 'gs-450h', 'gt', 'gt-r', 'gt86',\n",
       "       'gts', 'gtv', 'h1', 'h2', 'h3', 'hhr', 'highlander', 'hilux',\n",
       "       'hr-v', 'i10', 'i20', 'i3', 'i30', 'i40', 'i8', 'ibiza', 'idea',\n",
       "       'ignis', 'impala', 'impreza', 'inca', 'insight', 'insignia',\n",
       "       'integra', 'intrepid', 'iq', 'is', 'is-200', 'is-220d', 'is-250',\n",
       "       'is-f', 'ix20', 'ix35', 'ix55', 'jazz', 'jetta', 'jimny', 'joice',\n",
       "       'journey', 'juke', 'jumper', 'jumpy', 'justy', 'ka', 'kadett',\n",
       "       'kadjar', 'kangoo', 'king-cab', 'kizashi', 'kuga', 'l200',\n",
       "       'lacetti', 'laguna', 'lancer', 'land-cruiser', 'lantra', 'laurel',\n",
       "       'le-baron-cabrio', 'leaf', 'legacy', 'legend', 'leon', 'levorg',\n",
       "       'lhs', 'liana', 'liberty', 'linea', 'lodgy', 'logan', 'ls',\n",
       "       'ls-430', 'ls-460', 'ls-600h', 'ls-600h-l', 'lumina', 'lupo',\n",
       "       'lx-570', 'lybra', 'm3', 'm4', 'm5', 'm6', 'macan', 'magentis',\n",
       "       'magnum', 'malibu', 'manta', 'marauder', 'marbella', 'marea',\n",
       "       'master', 'matiz', 'matrix', 'maverick', 'maxima', 'megane',\n",
       "       'meriva', 'micra', 'micro-compact', 'mii', 'mini', 'mito', 'ml230',\n",
       "       'ml270-cdi', 'ml280-cdi', 'ml320', 'ml350', 'ml350-cdi',\n",
       "       'ml400-cdi', 'ml420-cdi', 'model-s', 'model-x', 'modus', 'mokka',\n",
       "       'mondeo', 'monte-carlo', 'monterey', 'monza', 'mpv', 'mr2',\n",
       "       'multipla', 'multivan', 'murano', 'musa', 'mustang', 'mx', 'mx-3',\n",
       "       'mx-5', 'mx-6', 'navara', 'nemo', 'neon', 'new-beetle',\n",
       "       'new-yorker', 'nitro', 'niva', 'note', 'nsx', 'nubira', 'nv200',\n",
       "       'octavia', 'odyssey', 'omega', 'one', 'opirus', 'optima', 'orion',\n",
       "       'orlando', 'outback', 'outlander', 'pacifica', 'pajero',\n",
       "       'pajero-pinin', 'pajero-sport', 'palio', 'panamera', 'panda',\n",
       "       'partner', 'paseo', 'passat', 'passat-cc', 'pathfinder',\n",
       "       'pathfinder-armada', 'patriot', 'patrol', 'phaeton', 'phantom',\n",
       "       'phedra', 'picanto', 'picnic', 'pilot', 'polo', 'pony', 'prairie',\n",
       "       'prelude', 'premacy', 'previa', 'pride', 'primera', 'prius',\n",
       "       'proace', 'probe', 'pt-cruiser', 'pulsar', 'puma', 'punto',\n",
       "       'punto-evo', 'q3', 'q5', 'q50', 'q7', 'qashqai', 'quattroporte',\n",
       "       'qubo', 'quest', 'r11', 'r19', 'r280-cdi', 'r320-cdi', 'r350',\n",
       "       'r350-cdi', 'r5', 'r500', 'r8', 'r9', 'ram', 'ram-1500',\n",
       "       'range-rover', 'range-rover-evoque', 'range-rover-sport', 'rapid',\n",
       "       'rapide', 'rav4', 'rcz', 'regata', 'rekord', 'renegade', 'retona',\n",
       "       'ridgeline', 'rio', 'ritmo', 'roadster', 'roomster', 'routan',\n",
       "       'rs2', 'rs3', 'rs4', 'rs5', 'rs6', 'rs7', 'runner', 'rx', 'rx-300',\n",
       "       'rx-330', 'rx-350', 'rx-400', 'rx-400h', 'rx-450h', 'rx-7', 'rx-8',\n",
       "       'rx-hybrid', 's-cross', 's-max', 's-type', 's10', 's2000', 's3',\n",
       "       's320-cdi', 's350-cdi', 's4', 's40', 's400-cdi', 's430', 's5',\n",
       "       's500', 's550', 's6', 's60', 's600', 's65-amg', 's7', 's70', 's8',\n",
       "       's80', 's90', 'safrane', 'samurai', 'sandero', 'santa-fe',\n",
       "       'santamo', 'saratoga', 'saxo', 'sc', 'scenic', 'scirocco',\n",
       "       'scorpio', 'scoupe', 'scrambler', 'sebring', 'sedici', 'seicento',\n",
       "       'senator', 'sephia', 'sequoia', 'serena', 'sharan', 'shuma',\n",
       "       'shuttle', 'sienna', 'sierra', 'sigma', 'silverado', 'silvia',\n",
       "       'sintra', 'sl300', 'sl350', 'sl500', 'sl55-amg', 'sl600', 'slk200',\n",
       "       'slk230', 'slk280', 'slk300', 'slk350', 'sls', 'solara', 'solenza',\n",
       "       'sonata', 'sorento', 'soul', 'space', 'space-star', 'spacewagon',\n",
       "       'spark', 'speedster', 'spider', 'splash', 'sportage', 'sq5',\n",
       "       'srt-4', 'starlet', 'stealth', 'stilo', 'stratus', 'stream',\n",
       "       'streetka', 'streetwise', 'suburban', 'sunny', 'superb', 'supra',\n",
       "       'svx', 'swift', 'sx', 'sx4', 'sx4-s-cross', 'tacoma', 'tacuma',\n",
       "       'tahoe', 'taunus', 'taurus', 'tempra', 'terracan', 'terrano',\n",
       "       'terrano-ii', 'thalia', 'thema', 'thesis', 'thunderbird', 'tigra',\n",
       "       'tiguan', 'tiida', 'tipo', 'titan', 'toledo', 'touareg', 'touran',\n",
       "       'tourneo-connect', 'tourneo-courier', 'tourneo-custom',\n",
       "       'town-country', 'tracker', 'trafic', 'trailblazer', 'trajet',\n",
       "       'trans-sport', 'transit', 'transporter', 'trax', 'trezia',\n",
       "       'tribeca', 'tribute', 'trooper', 'tt', 'tucson', 'tundra',\n",
       "       'turbo-r', 'twingo', 'ulysse', 'uno', 'up', 'urban', 'v200-cdi',\n",
       "       'v250-cdi', 'v40', 'v50', 'v60', 'v70', 'v8', 'v8-vantage', 'v90',\n",
       "       'vectra', 'vel-satis', 'veloster', 'venga', 'vento', 'verso',\n",
       "       'viano', 'viper', 'visa', 'vision', 'vitara', 'vito', 'vivaro',\n",
       "       'vivio', 'voyager', 'wagon-r', 'windstar', 'wraith', 'wrangler',\n",
       "       'wrx', 'x-19', 'x-trail', 'x-type', 'x1', 'x3', 'x4', 'x5', 'x6',\n",
       "       'xantia', 'xc60', 'xc70', 'xc90', 'xedos', 'xf', 'xg', 'xj', 'xj6',\n",
       "       'xj8', 'xjr', 'xjs', 'xk', 'xk8', 'xkr', 'xm', 'xsara',\n",
       "       'xsara-picasso', 'xv', 'y', 'yaris', 'yeti', 'z', 'z1', 'z3', 'z4',\n",
       "       'z8', 'zafira', 'zx'], dtype=object)"
      ]
     },
     "execution_count": 14,
     "metadata": {},
     "output_type": "execute_result"
    }
   ],
   "source": [
    "le_maker = LabelEncoder()\n",
    "le_model = LabelEncoder()\n",
    "\n",
    "df['maker'] = le_maker.fit_transform(df['maker'])\n",
    "df['model'] = le_model.fit_transform(df['model'])\n",
    "\n",
    "le_maker.classes_\n",
    "le_model.classes_"
   ]
  },
  {
   "cell_type": "code",
   "execution_count": 15,
   "metadata": {},
   "outputs": [
    {
     "name": "stdout",
     "output_type": "stream",
     "text": [
      "<class 'pandas.core.frame.DataFrame'>\n",
      "RangeIndex: 712681 entries, 0 to 712680\n",
      "Data columns (total 10 columns):\n",
      " #   Column               Non-Null Count   Dtype  \n",
      "---  ------               --------------   -----  \n",
      " 0   maker                712681 non-null  int32  \n",
      " 1   model                712681 non-null  int32  \n",
      " 2   mileage              712681 non-null  float64\n",
      " 3   manufacture_year     712681 non-null  float64\n",
      " 4   engine_displacement  712681 non-null  float64\n",
      " 5   engine_power         712681 non-null  float64\n",
      " 6   transmission         712681 non-null  object \n",
      " 7   door_count           712681 non-null  float64\n",
      " 8   seat_count           712681 non-null  float64\n",
      " 9   fuel_type            712681 non-null  object \n",
      "dtypes: float64(6), int32(2), object(2)\n",
      "memory usage: 48.9+ MB\n"
     ]
    }
   ],
   "source": [
    "df.info()"
   ]
  },
  {
   "cell_type": "code",
   "execution_count": 16,
   "metadata": {},
   "outputs": [
    {
     "data": {
      "text/plain": [
       "array(['man', 'auto'], dtype=object)"
      ]
     },
     "execution_count": 16,
     "metadata": {},
     "output_type": "execute_result"
    }
   ],
   "source": [
    "df.transmission.unique()"
   ]
  },
  {
   "cell_type": "code",
   "execution_count": 17,
   "metadata": {},
   "outputs": [],
   "source": [
    "df.loc[df['transmission'] == 'man', 'transmission'] = 0\n",
    "df.loc[df['transmission'] == 'auto', 'transmission'] = 1\n",
    "\n",
    "df['transmission'] = pd.to_numeric(df['transmission'])"
   ]
  },
  {
   "cell_type": "code",
   "execution_count": 18,
   "metadata": {},
   "outputs": [
    {
     "data": {
      "text/plain": [
       "array(['diesel', 'gasoline', 'electric'], dtype=object)"
      ]
     },
     "execution_count": 18,
     "metadata": {},
     "output_type": "execute_result"
    }
   ],
   "source": [
    "df.fuel_type.unique()"
   ]
  },
  {
   "cell_type": "code",
   "execution_count": 19,
   "metadata": {},
   "outputs": [],
   "source": [
    "df.loc[df['fuel_type'] == 'diesel', 'fuel_type'] = 0\n",
    "df.loc[df['fuel_type'] == 'gasoline', 'fuel_type'] = 1\n",
    "df.loc[df['fuel_type'] == 'electric', 'fuel_type'] = 2\n",
    "\n",
    "df['fuel_type'] = pd.to_numeric(df['fuel_type'])"
   ]
  },
  {
   "cell_type": "code",
   "execution_count": 20,
   "metadata": {},
   "outputs": [
    {
     "data": {
      "text/plain": [
       "array([0, 1, 2], dtype=int64)"
      ]
     },
     "execution_count": 20,
     "metadata": {},
     "output_type": "execute_result"
    }
   ],
   "source": [
    "df.fuel_type.unique()"
   ]
  },
  {
   "cell_type": "code",
   "execution_count": 21,
   "metadata": {},
   "outputs": [],
   "source": [
    "X = df.drop('fuel_type', axis = 1)\n",
    "y = df[['fuel_type']]"
   ]
  },
  {
   "cell_type": "code",
   "execution_count": 22,
   "metadata": {},
   "outputs": [],
   "source": [
    "from sklearn.model_selection import train_test_split\n",
    "\n",
    "X_train, X_test, y_train, y_test = train_test_split(X, y, test_size=0.3, random_state=42)"
   ]
  },
  {
   "cell_type": "code",
   "execution_count": 23,
   "metadata": {},
   "outputs": [],
   "source": [
    "from sklearn.preprocessing import MinMaxScaler\n",
    "\n",
    "normalizador = MinMaxScaler()\n",
    "\n",
    "X_train = normalizador.fit_transform(X_train)\n",
    "\n",
    "X_test = normalizador.transform(X_test)"
   ]
  },
  {
   "cell_type": "code",
   "execution_count": 24,
   "metadata": {},
   "outputs": [],
   "source": [
    "# Biblioteca de algoritmo de machine Learning Naive Bayes\n",
    "from sklearn.naive_bayes import GaussianNB\n",
    "\n",
    "# Bibliotecas apara avaliar desempenho de modelos de machine learning de classificação\n",
    "from sklearn.metrics import classification_report, confusion_matrix\n",
    "\n",
    "# Bibliotecas de Gráficos\n",
    "import matplotlib.pyplot as plt\n",
    "import seaborn as sns"
   ]
  },
  {
   "cell_type": "code",
   "execution_count": 25,
   "metadata": {},
   "outputs": [],
   "source": [
    "def avaliar_model(y_test, y_pred):\n",
    "    # Criando a matriz de confusão\n",
    "    conf_matrix = confusion_matrix(y_test, y_pred)\n",
    "\n",
    "    # Plotando a matriz de confusão com um heatmap\n",
    "    plt.figure(figsize=(8,6))\n",
    "    sns.heatmap(conf_matrix, annot=True, fmt='g', cmap=\"Blues\")\n",
    "    plt.xlabel('Predicted')\n",
    "    plt.ylabel('Actual')\n",
    "    plt.title('Confusion Matrix')\n",
    "    plt.show()\n",
    "\n",
    "    # Exibindo o classification report\n",
    "    print(classification_report(y_test, y_pred))"
   ]
  },
  {
   "cell_type": "code",
   "execution_count": 26,
   "metadata": {},
   "outputs": [
    {
     "name": "stderr",
     "output_type": "stream",
     "text": [
      "C:\\Users\\gstvluf\\AppData\\Roaming\\Python\\Python311\\site-packages\\sklearn\\utils\\validation.py:1300: DataConversionWarning: A column-vector y was passed when a 1d array was expected. Please change the shape of y to (n_samples, ), for example using ravel().\n",
      "  y = column_or_1d(y, warn=True)\n"
     ]
    },
    {
     "data": {
      "image/png": "[encoded data removed]",
      "text/plain": [
       "<Figure size 800x600 with 2 Axes>"
      ]
     },
     "metadata": {},
     "output_type": "display_data"
    },
    {
     "name": "stderr",
     "output_type": "stream",
     "text": [
      "C:\\Users\\gstvluf\\AppData\\Roaming\\Python\\Python311\\site-packages\\sklearn\\metrics\\_classification.py:1509: UndefinedMetricWarning: Precision is ill-defined and being set to 0.0 in labels with no predicted samples. Use `zero_division` parameter to control this behavior.\n",
      "  _warn_prf(average, modifier, f\"{metric.capitalize()} is\", len(result))\n",
      "C:\\Users\\gstvluf\\AppData\\Roaming\\Python\\Python311\\site-packages\\sklearn\\metrics\\_classification.py:1509: UndefinedMetricWarning: Precision is ill-defined and being set to 0.0 in labels with no predicted samples. Use `zero_division` parameter to control this behavior.\n",
      "  _warn_prf(average, modifier, f\"{metric.capitalize()} is\", len(result))\n"
     ]
    },
    {
     "name": "stdout",
     "output_type": "stream",
     "text": [
      "              precision    recall  f1-score   support\n",
      "\n",
      "           0       0.62      0.49      0.54     96799\n",
      "           1       0.62      0.75      0.68    113529\n",
      "           2       0.00      0.00      0.00      3477\n",
      "\n",
      "    accuracy                           0.62    213805\n",
      "   macro avg       0.41      0.41      0.41    213805\n",
      "weighted avg       0.61      0.62      0.61    213805\n",
      "\n"
     ]
    },
    {
     "name": "stderr",
     "output_type": "stream",
     "text": [
      "C:\\Users\\gstvluf\\AppData\\Roaming\\Python\\Python311\\site-packages\\sklearn\\metrics\\_classification.py:1509: UndefinedMetricWarning: Precision is ill-defined and being set to 0.0 in labels with no predicted samples. Use `zero_division` parameter to control this behavior.\n",
      "  _warn_prf(average, modifier, f\"{metric.capitalize()} is\", len(result))\n"
     ]
    }
   ],
   "source": [
    "from sklearn.linear_model import LogisticRegression\n",
    "from sklearn.metrics import accuracy_score\n",
    "\n",
    "# Cria uma instância do algorítmo de Regressão Logística\n",
    "lrmodel = LogisticRegression()\n",
    "\n",
    "# Treina o modelo com a base de treinamento\n",
    "lrmodel_treinado = lrmodel.fit(X_train, y_train)\n",
    "\n",
    "# Realiza a predição dos valores de teste\n",
    "y_predict = lrmodel_treinado.predict(X_test)\n",
    "\n",
    "avaliar_model(y_test, y_predict)"
   ]
  },
  {
   "cell_type": "code",
   "execution_count": 27,
   "metadata": {},
   "outputs": [
    {
     "name": "stderr",
     "output_type": "stream",
     "text": [
      "C:\\Users\\gstvluf\\AppData\\Roaming\\Python\\Python311\\site-packages\\sklearn\\base.py:1474: DataConversionWarning: A column-vector y was passed when a 1d array was expected. Please change the shape of y to (n_samples,), for example using ravel().\n",
      "  return fit_method(estimator, *args, **kwargs)\n"
     ]
    },
    {
     "data": {
      "image/png": "[encoded data removed]",
      "text/plain": [
       "<Figure size 800x600 with 2 Axes>"
      ]
     },
     "metadata": {},
     "output_type": "display_data"
    },
    {
     "name": "stdout",
     "output_type": "stream",
     "text": [
      "              precision    recall  f1-score   support\n",
      "\n",
      "           0       0.95      0.95      0.95     96799\n",
      "           1       0.94      0.96      0.95    113529\n",
      "           2       0.72      0.44      0.55      3477\n",
      "\n",
      "    accuracy                           0.94    213805\n",
      "   macro avg       0.87      0.78      0.82    213805\n",
      "weighted avg       0.94      0.94      0.94    213805\n",
      "\n"
     ]
    }
   ],
   "source": [
    "from sklearn.ensemble import RandomForestClassifier\n",
    "\n",
    "# Cria uma instância do modelo\n",
    "rdmf = RandomForestClassifier()\n",
    "# Treina o modelo com a base de treinamento\n",
    "rdmf.fit(X_train, y_train)\n",
    "\n",
    "# Realiza a predição dos valores de teste\n",
    "y_predict = rdmf.predict(X_test)\n",
    "\n",
    "avaliar_model(y_test, y_predict)"
   ]
  }
 ],
 "metadata": {
  "kernelspec": {
   "display_name": "base",
   "language": "python",
   "name": "python3"
  },
  "language_info": {
   "codemirror_mode": {
    "name": "ipython",
    "version": 3
   },
   "file_extension": ".py",
   "mimetype": "text/x-python",
   "name": "python",
   "nbconvert_exporter": "python",
   "pygments_lexer": "ipython3",
   "version": "3.11.5"
  }
 },
 "nbformat": 4,
 "nbformat_minor": 2
}
