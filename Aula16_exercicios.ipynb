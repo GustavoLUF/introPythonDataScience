{
 "cells": [
  {
   "cell_type": "code",
   "execution_count": 4,
   "metadata": {},
   "outputs": [
    {
     "name": "stdout",
     "output_type": "stream",
     "text": [
      "[1, 4, 9, 16, 25, 36, 49, 64, 81, 100]\n"
     ]
    }
   ],
   "source": [
    "quadrados = []\n",
    "\n",
    "for i in range(1, 11):\n",
    "    quadrados.append(i * i)\n",
    "\n",
    "print(quadrados)"
   ]
  },
  {
   "cell_type": "code",
   "execution_count": 12,
   "metadata": {},
   "outputs": [
    {
     "name": "stdout",
     "output_type": "stream",
     "text": [
      "['ARTHUR', 'DA SS PRO', 'GUSTAVO']\n"
     ]
    }
   ],
   "source": [
    "lista_maiuscula = ['arthur', 'da ss pro', 'gustavo']\n",
    "\n",
    "lista_maiuscula = [i.upper() for i in lista_maiuscula]\n",
    "\n",
    "print(lista_maiuscula)\n",
    "    "
   ]
  },
  {
   "cell_type": "code",
   "execution_count": 13,
   "metadata": {},
   "outputs": [
    {
     "name": "stdout",
     "output_type": "stream",
     "text": [
      "[0, 2, 4, 6, 8, 10, 12, 14, 16, 18, 20]\n"
     ]
    }
   ],
   "source": [
    "lista_pares = [i for i in range(21) if i % 2 == 0]\n",
    "print(lista_pares)"
   ]
  },
  {
   "cell_type": "code",
   "execution_count": 14,
   "metadata": {},
   "outputs": [
    {
     "name": "stdout",
     "output_type": "stream",
     "text": [
      "[(1, 1), (2, 4), (3, 9), (4, 16), (5, 25)]\n"
     ]
    }
   ],
   "source": [
    "lista_tuplas = [(i, i**2) for i in range(1,6)]\n",
    "print(lista_tuplas)"
   ]
  },
  {
   "cell_type": "code",
   "execution_count": 16,
   "metadata": {},
   "outputs": [
    {
     "name": "stdout",
     "output_type": "stream",
     "text": [
      "[1, 3, 5, 7, 9]\n"
     ]
    }
   ],
   "source": [
    "lista_impar = [i for i in range(1,11) if i % 2 != 0]\n",
    "print(lista_impar)"
   ]
  },
  {
   "cell_type": "code",
   "execution_count": 18,
   "metadata": {},
   "outputs": [
    {
     "name": "stdout",
     "output_type": "stream",
     "text": [
      "['Arthur', 'da SS pro', 'Gustavo']\n",
      "['A', 'r', 't', 'h', 'u', 'r', 'd', 'a', ' ', 'S', 'S', ' ', 'p', 'r', 'o', 'G', 'u', 's', 't', 'a', 'v', 'o']\n"
     ]
    }
   ],
   "source": [
    "lista_palavras = [\"Arthur\", \"da SS pro\", \"Gustavo\"]\n",
    "\n",
    "lista_caracteres = [caractere for palavra in lista_palavras for caractere in palavra]\n",
    "\n",
    "print(lista_palavras)\n",
    "print(lista_caracteres)"
   ]
  },
  {
   "cell_type": "code",
   "execution_count": 22,
   "metadata": {},
   "outputs": [
    {
     "name": "stdout",
     "output_type": "stream",
     "text": [
      "[1, 7, 6, 2, 2]\n"
     ]
    }
   ],
   "source": [
    "frase = \"O Gustavo merece um SS\"\n",
    "\n",
    "lista_comprimento = [len(palavra) for palavra in frase.split()]\n",
    "print(lista_comprimento)"
   ]
  },
  {
   "cell_type": "code",
   "execution_count": 24,
   "metadata": {},
   "outputs": [
    {
     "name": "stdout",
     "output_type": "stream",
     "text": [
      "[3, 6, 9, 12, 15, 18, 21, 24, 27, 30]\n"
     ]
    }
   ],
   "source": [
    "lista_divisor_3 = [i for i in range(1, 31) if i % 3 == 0]\n",
    "print(lista_divisor_3)"
   ]
  },
  {
   "cell_type": "code",
   "execution_count": 25,
   "metadata": {},
   "outputs": [
    {
     "name": "stdout",
     "output_type": "stream",
     "text": [
      "['impar', 'par', 'impar', 'par', 'impar', 'par', 'impar', 'par', 'impar', 'par']\n"
     ]
    }
   ],
   "source": [
    "par_ou_impar = ['par' if i % 2 == 0 else 'impar' for i in range(1, 11)]\n",
    "print(par_ou_impar)"
   ]
  },
  {
   "cell_type": "code",
   "execution_count": 30,
   "metadata": {},
   "outputs": [
    {
     "name": "stdout",
     "output_type": "stream",
     "text": [
      "[2, 3, 5, 7, 11, 13, 17, 19]\n"
     ]
    }
   ],
   "source": [
    "lista_numeros_primos = [i for i in range(2, 20) if all(i % n != 0 for n in range(2, int(i ** 0.5) + 1))]\n",
    "\n",
    "print(lista_numeros_primos)"
   ]
  },
  {
   "cell_type": "code",
   "execution_count": 31,
   "metadata": {},
   "outputs": [
    {
     "name": "stdout",
     "output_type": "stream",
     "text": [
      "[2, 4, 5, 6, 8, 10, 12, 14, 15, 16, 18, 20]\n"
     ]
    }
   ],
   "source": [
    "lista_divisor_2_5 = [i for i in range(1,21) if i % 2 == 0 or i % 5 == 0]\n",
    "print(lista_divisor_2_5)"
   ]
  },
  {
   "cell_type": "code",
   "execution_count": 39,
   "metadata": {},
   "outputs": [
    {
     "name": "stdout",
     "output_type": "stream",
     "text": [
      "[1, 4, 9, 16, 25, 36, 49, 64, 81, 100]\n"
     ]
    }
   ],
   "source": [
    "lista_quadrados_perfeitos = [i**2 for i in range(1, 11)]\n",
    "print(lista_quadrados_perfeitos)"
   ]
  },
  {
   "cell_type": "code",
   "execution_count": 42,
   "metadata": {},
   "outputs": [
    {
     "name": "stdout",
     "output_type": "stream",
     "text": [
      "['socorraM', 'me', 'subinô', 'on', 'ibus', 'em-marrocoS']\n"
     ]
    }
   ],
   "source": [
    "lista_string = [\"Socorram-me\", \"subi\", \"no\", \"ônibus\", \"em\", \"Marrocos\"]\n",
    "\n",
    "lista_invertida = [i[::-1] for i in lista_string][::-1]\n",
    "print(lista_invertida)\n"
   ]
  },
  {
   "cell_type": "code",
   "execution_count": 44,
   "metadata": {},
   "outputs": [
    {
     "name": "stdout",
     "output_type": "stream",
     "text": [
      "[False, True, False, True, False, True, False, True, False, True]\n"
     ]
    }
   ],
   "source": [
    "lista_booleanos = [True if i % 2 == 0 else False for i in range(1, 11)]\n",
    "print(lista_booleanos)"
   ]
  },
  {
   "cell_type": "code",
   "execution_count": 45,
   "metadata": {},
   "outputs": [
    {
     "name": "stdout",
     "output_type": "stream",
     "text": [
      "['O', 'u', 'a', 'o', 'i', 'o', 'u']\n"
     ]
    }
   ],
   "source": [
    "frase = \"O Gustavo tirou SS\"\n",
    "\n",
    "lista_vogais = [i for i in frase if i in 'aeiouAEIOU']\n",
    "print(lista_vogais)"
   ]
  },
  {
   "cell_type": "code",
   "execution_count": 47,
   "metadata": {},
   "outputs": [
    {
     "name": "stdout",
     "output_type": "stream",
     "text": [
      "[[1], [1, 2], [1, 2, 3], [1, 2, 3, 4], [1, 2, 3, 4, 5]]\n"
     ]
    }
   ],
   "source": [
    "lista_listas = [[i for i in range(1, n + 1)] for n in range(1,6)]\n",
    "print(lista_listas)"
   ]
  },
  {
   "cell_type": "code",
   "execution_count": 50,
   "metadata": {},
   "outputs": [
    {
     "name": "stdout",
     "output_type": "stream",
     "text": [
      "[1, 0, 0]\n",
      "[0, 1, 0]\n",
      "[0, 0, 1]\n"
     ]
    }
   ],
   "source": [
    "lista_matriz = [[1 if j == i else 0 for j in range(3)] for i in range(3)]\n",
    "for i in lista_matriz:\n",
    "    print(i)"
   ]
  },
  {
   "cell_type": "code",
   "execution_count": 52,
   "metadata": {},
   "outputs": [
    {
     "name": "stdout",
     "output_type": "stream",
     "text": [
      "[(1, 'a'), (1, 'b'), (1, 'c'), (2, 'a'), (2, 'b'), (2, 'c'), (3, 'a'), (3, 'b'), (3, 'c')]\n"
     ]
    }
   ],
   "source": [
    "lista1 = [1, 2, 3]\n",
    "lista2 = ['a', 'b', 'c']\n",
    "\n",
    "lista_pares = [(x, y) for x in lista1 for y in lista2]\n",
    "print(lista_pares)"
   ]
  },
  {
   "cell_type": "code",
   "execution_count": 53,
   "metadata": {},
   "outputs": [
    {
     "name": "stdout",
     "output_type": "stream",
     "text": [
      "[1, 2, 3, 4, 5, 6, 7, 8, 9]\n"
     ]
    }
   ],
   "source": [
    "lista_de_listas = [[1, 2, 3], [4, 5, 6], [7, 8, 9]]\n",
    "\n",
    "todos_elementos = [elemento for sublista in lista_de_listas for elemento in sublista]\n",
    "\n",
    "print(todos_elementos)"
   ]
  },
  {
   "cell_type": "code",
   "execution_count": 54,
   "metadata": {},
   "outputs": [
    {
     "name": "stdout",
     "output_type": "stream",
     "text": [
      "[6, 12, 18, 24, 36, 42, 48, 54, 66, 72, 78, 84, 96]\n"
     ]
    }
   ],
   "source": [
    "lista_divisivel = [i for i in range(1, 100) if i % 2 == 0 and i % 3 == 0 and i % 5 != 0]\n",
    "print(lista_divisivel)"
   ]
  }
 ],
 "metadata": {
  "kernelspec": {
   "display_name": "base",
   "language": "python",
   "name": "python3"
  },
  "language_info": {
   "codemirror_mode": {
    "name": "ipython",
    "version": 3
   },
   "file_extension": ".py",
   "mimetype": "text/x-python",
   "name": "python",
   "nbconvert_exporter": "python",
   "pygments_lexer": "ipython3",
   "version": "3.11.5"
  }
 },
 "nbformat": 4,
 "nbformat_minor": 2
}
