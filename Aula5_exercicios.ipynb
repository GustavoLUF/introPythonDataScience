{
 "cells": [
  {
   "cell_type": "markdown",
   "metadata": {},
   "source": [
    "Exercicios de Revisão"
   ]
  },
  {
   "cell_type": "markdown",
   "metadata": {},
   "source": [
    "7.1 - Calculo do Imposto de Renda anual"
   ]
  },
  {
   "cell_type": "code",
   "execution_count": 1,
   "metadata": {},
   "outputs": [
    {
     "name": "stdout",
     "output_type": "stream",
     "text": [
      "Valor por mês: 150.0\n",
      "Valor por ano: 1800.0\n"
     ]
    }
   ],
   "source": [
    "salario = 1000\n",
    "\n",
    "importo_mensal = 0.15\n",
    "\n",
    "valor_por_mes = salario*importo_mensal\n",
    "print(f\"Valor por mês: {valor_por_mes}\")\n",
    "print(f\"Valor por ano: {valor_por_mes*12}\")"
   ]
  },
  {
   "cell_type": "code",
   "execution_count": 9,
   "metadata": {},
   "outputs": [
    {
     "name": "stdout",
     "output_type": "stream",
     "text": [
      "A nota 1 é: 5\n",
      "A nota 2 é: 5\n",
      "A nota 3 é: 5\n",
      "A nota 4 é: 5\n",
      "Sua media é: 5.0\n"
     ]
    }
   ],
   "source": [
    "notas = []\n",
    "numero_provas = int(input(\"Quantas provas? \"))\n",
    "count = 0\n",
    "while count != numero_provas:\n",
    "    count += 1\n",
    "    nota = int(input(f\"Digite a nota da prova {count}\"))\n",
    "    notas.append(nota)\n",
    "    print(f\"A nota {count} é: {nota}\")\n",
    "\n",
    "media = sum(notas)/numero_provas\n",
    "print(f\"Sua media é: {media}\")\n"
   ]
  },
  {
   "cell_type": "code",
   "execution_count": null,
   "metadata": {},
   "outputs": [],
   "source": []
  }
 ],
 "metadata": {
  "kernelspec": {
   "display_name": "Python 3",
   "language": "python",
   "name": "python3"
  },
  "language_info": {
   "codemirror_mode": {
    "name": "ipython",
    "version": 3
   },
   "file_extension": ".py",
   "mimetype": "text/x-python",
   "name": "python",
   "nbconvert_exporter": "python",
   "pygments_lexer": "ipython3",
   "version": "3.11.3"
  }
 },
 "nbformat": 4,
 "nbformat_minor": 2
}
