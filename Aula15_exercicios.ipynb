{
 "cells": [
  {
   "cell_type": "code",
   "execution_count": 1,
   "metadata": {},
   "outputs": [
    {
     "name": "stdout",
     "output_type": "stream",
     "text": [
      "invalid literal for int() with base 10: 'Gustavo'\n"
     ]
    }
   ],
   "source": [
    "nome = 'Gustavo'\n",
    "try:\n",
    "    int(nome)\n",
    "except ValueError as e:\n",
    "    print(e)"
   ]
  },
  {
   "cell_type": "code",
   "execution_count": 2,
   "metadata": {},
   "outputs": [
    {
     "name": "stdout",
     "output_type": "stream",
     "text": [
      "list index out of range\n"
     ]
    }
   ],
   "source": [
    "lista = [1,2,3,4,5]\n",
    "\n",
    "try:\n",
    "    print(lista[5])\n",
    "except IndexError as e:\n",
    "    print(e)"
   ]
  },
  {
   "cell_type": "code",
   "execution_count": 4,
   "metadata": {},
   "outputs": [
    {
     "name": "stdout",
     "output_type": "stream",
     "text": [
      "division by zero\n"
     ]
    }
   ],
   "source": [
    "def divide(num1, num2):\n",
    "    resultado = num1/num2\n",
    "    print(resultado)\n",
    "\n",
    "try:\n",
    "    divide(2,0)\n",
    "except Exception as e:\n",
    "    print(e)"
   ]
  },
  {
   "cell_type": "code",
   "execution_count": 5,
   "metadata": {},
   "outputs": [
    {
     "name": "stdout",
     "output_type": "stream",
     "text": [
      "unsupported operand type(s) for +: 'int' and 'str'\n"
     ]
    }
   ],
   "source": [
    "try:\n",
    "    soma = 1 + '1'\n",
    "except TypeError as e:\n",
    "    print(e)"
   ]
  },
  {
   "cell_type": "code",
   "execution_count": 6,
   "metadata": {},
   "outputs": [
    {
     "name": "stdout",
     "output_type": "stream",
     "text": [
      "[Errno 2] No such file or directory: 'ArquivoInexistente.csv'\n"
     ]
    }
   ],
   "source": [
    "import pandas as pd\n",
    "\n",
    "try:\n",
    "    df = pd.read_csv(\"ArquivoInexistente.csv\")\n",
    "except FileNotFoundError as e:\n",
    "    print(e)"
   ]
  },
  {
   "cell_type": "code",
   "execution_count": 7,
   "metadata": {},
   "outputs": [
    {
     "name": "stdout",
     "output_type": "stream",
     "text": [
      "Olá Mundo!\n",
      "Nenhuma exceção\n"
     ]
    }
   ],
   "source": [
    "try:\n",
    "    print(\"Olá Mundo!\")\n",
    "except Exception as e:\n",
    "    print(e)\n",
    "else:\n",
    "    print(\"Nenhuma exceção\")"
   ]
  },
  {
   "cell_type": "code",
   "execution_count": 9,
   "metadata": {},
   "outputs": [
    {
     "name": "stdout",
     "output_type": "stream",
     "text": [
      "3\n",
      "Linha de código concluida\n"
     ]
    }
   ],
   "source": [
    "def soma(num1, num2):\n",
    "    resultado = num1 + num2\n",
    "    print(resultado)\n",
    "\n",
    "try:\n",
    "    soma(1,2)\n",
    "except Exception as e:\n",
    "    print(e)\n",
    "finally:\n",
    "    print(\"Linha de código concluida\")\n"
   ]
  },
  {
   "cell_type": "code",
   "execution_count": 10,
   "metadata": {},
   "outputs": [
    {
     "name": "stdout",
     "output_type": "stream",
     "text": [
      "Este é um erro intencional\n"
     ]
    }
   ],
   "source": [
    "try:\n",
    "    raise ValueError(\"Este é um erro intencional\")\n",
    "except Exception as e:\n",
    "    print(e)"
   ]
  },
  {
   "cell_type": "code",
   "execution_count": 12,
   "metadata": {},
   "outputs": [
    {
     "name": "stdout",
     "output_type": "stream",
     "text": [
      "Erro personalizado: O valor não pode ser negativo\n"
     ]
    }
   ],
   "source": [
    "class CustomError(Exception):\n",
    "    def __init__(self, message):\n",
    "        super().__init__(message)\n",
    "\n",
    "def valor_positivo(valor):\n",
    "    if valor < 0:\n",
    "        raise CustomError(\"O valor não pode ser negativo\")\n",
    "    else:\n",
    "        return f\"O valor é {valor}\"\n",
    "    \n",
    "\n",
    "try:\n",
    "    resultado = valor_positivo(-1)\n",
    "    print(resultado)\n",
    "except CustomError as e:\n",
    "    print(f\"Erro personalizado: {e}\")"
   ]
  },
  {
   "cell_type": "code",
   "execution_count": 18,
   "metadata": {},
   "outputs": [
    {
     "name": "stdout",
     "output_type": "stream",
     "text": [
      "O número não pode ser negativo.\n"
     ]
    }
   ],
   "source": [
    "def verifica_numero(numero):\n",
    "    if numero < 0:\n",
    "        raise ValueError(\"O número não pode ser negativo.\")\n",
    "    return numero\n",
    "\n",
    "try:\n",
    "    resultado = verifica_numero(-2)\n",
    "    print(resultado)\n",
    "except ValueError as e:\n",
    "    print(e)"
   ]
  },
  {
   "cell_type": "code",
   "execution_count": 20,
   "metadata": {},
   "outputs": [
    {
     "name": "stdout",
     "output_type": "stream",
     "text": [
      "'tuple' object does not support item assignment\n"
     ]
    }
   ],
   "source": [
    "minha_tupla = (1, 2, 3)\n",
    "\n",
    "try:\n",
    "    minha_tupla[1] = 0\n",
    "except TypeError as e:\n",
    "    print(e)"
   ]
  },
  {
   "cell_type": "code",
   "execution_count": 24,
   "metadata": {},
   "outputs": [
    {
     "name": "stdout",
     "output_type": "stream",
     "text": [
      "[Errno 2] No such file or directory: 'arquivo_qualquer.csv'\n"
     ]
    }
   ],
   "source": [
    "import pandas as pd\n",
    "\n",
    "def ler_arquivo(arquivo):\n",
    "    try:\n",
    "        df = pd.read_csv(arquivo)\n",
    "        return df\n",
    "    except FileNotFoundError as e:\n",
    "        print(e)\n",
    "    except PermissionError as e:\n",
    "        print(e)\n",
    "\n",
    "ler_arquivo('arquivo_qualquer.csv')"
   ]
  },
  {
   "cell_type": "code",
   "execution_count": 25,
   "metadata": {},
   "outputs": [
    {
     "name": "stdout",
     "output_type": "stream",
     "text": [
      "list index out of range\n"
     ]
    }
   ],
   "source": [
    "def loc_elemento(lista, index):\n",
    "    try:\n",
    "        print(lista[index])\n",
    "    except IndexError as e:\n",
    "        print(e)\n",
    "\n",
    "lista, index = [1,2,3], 5\n",
    "\n",
    "loc_elemento(lista, index)"
   ]
  },
  {
   "cell_type": "code",
   "execution_count": 28,
   "metadata": {},
   "outputs": [
    {
     "name": "stdout",
     "output_type": "stream",
     "text": [
      "invalid literal for int() with base 10: '1.0'\n"
     ]
    }
   ],
   "source": [
    "def digite_numero():\n",
    "    while True:\n",
    "        try:\n",
    "            numero = int(input(\"Digite um número: \"))\n",
    "            return numero\n",
    "        except ValueError as e:\n",
    "            print(e)\n",
    "\n",
    "numero = digite_numero()"
   ]
  },
  {
   "cell_type": "code",
   "execution_count": 29,
   "metadata": {},
   "outputs": [
    {
     "name": "stdout",
     "output_type": "stream",
     "text": [
      "1.2\n",
      "could not convert string to float: 'Gustavo'\n",
      "None\n"
     ]
    }
   ],
   "source": [
    "def string_to_float(palavra):\n",
    "    try:\n",
    "        numero = float(palavra)\n",
    "        return numero\n",
    "    except ValueError as e:\n",
    "        print(e)\n",
    "    \n",
    "palavras = [\"1.2\", \"Gustavo\"]\n",
    "\n",
    "for i in palavras:\n",
    "    resultado = string_to_float(i)\n",
    "    print(resultado)"
   ]
  },
  {
   "cell_type": "code",
   "execution_count": null,
   "metadata": {},
   "outputs": [],
   "source": []
  }
 ],
 "metadata": {
  "kernelspec": {
   "display_name": "base",
   "language": "python",
   "name": "python3"
  },
  "language_info": {
   "codemirror_mode": {
    "name": "ipython",
    "version": 3
   },
   "file_extension": ".py",
   "mimetype": "text/x-python",
   "name": "python",
   "nbconvert_exporter": "python",
   "pygments_lexer": "ipython3",
   "version": "3.11.5"
  }
 },
 "nbformat": 4,
 "nbformat_minor": 2
}
